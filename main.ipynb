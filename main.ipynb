{
 "cells": [
  {
   "cell_type": "code",
   "execution_count": 16,
   "metadata": {},
   "outputs": [],
   "source": [
    "import json\n",
    "  \n",
    "# Opening JSON file\n",
    "f = open('IG_credentials.json')\n",
    "data = json.load(f)"
   ]
  },
  {
   "cell_type": "code",
   "execution_count": 15,
   "metadata": {},
   "outputs": [
    {
     "name": "stderr",
     "output_type": "stream",
     "text": [
      "2022-11-05 21:17:37,423 - INFO - Instabot version: 0.117.0 Started\n"
     ]
    },
    {
     "ename": "NameError",
     "evalue": "name 'data' is not defined",
     "output_type": "error",
     "traceback": [
      "\u001b[0;31m---------------------------------------------------------------------------\u001b[0m",
      "\u001b[0;31mNameError\u001b[0m                                 Traceback (most recent call last)",
      "Cell \u001b[0;32mIn [15], line 5\u001b[0m\n\u001b[1;32m      1\u001b[0m \u001b[39mfrom\u001b[39;00m \u001b[39minstabot\u001b[39;00m \u001b[39mimport\u001b[39;00m Bot\n\u001b[1;32m      3\u001b[0m bot \u001b[39m=\u001b[39m Bot()\n\u001b[0;32m----> 5\u001b[0m bot\u001b[39m.\u001b[39mlogin(username \u001b[39m=\u001b[39m data[\u001b[39m\"\u001b[39m\u001b[39musername\u001b[39m\u001b[39m\"\u001b[39m],\n\u001b[1;32m      6\u001b[0m           password \u001b[39m=\u001b[39m data[\u001b[39m\"\u001b[39m\u001b[39mpassword\u001b[39m\u001b[39m\"\u001b[39m])\n\u001b[1;32m      8\u001b[0m bot\u001b[39m.\u001b[39mupload_photo(\u001b[39m\"\u001b[39m\u001b[39mTechnical-Scripter-2019.jpg\u001b[39m\u001b[39m\"\u001b[39m,\n\u001b[1;32m      9\u001b[0m                  caption \u001b[39m=\u001b[39m\u001b[39m\"\u001b[39m\u001b[39mTechnical Scripter Event 2019\u001b[39m\u001b[39m\"\u001b[39m)\n",
      "\u001b[0;31mNameError\u001b[0m: name 'data' is not defined"
     ]
    }
   ],
   "source": [
    "from instabot import Bot\n",
    " \n",
    "bot = Bot()\n",
    " \n",
    "bot.login(username = data[\"username\"],\n",
    "          password = data[\"password\"])\n",
    " \n",
    "bot.upload_photo(\"Technical-Scripter-2019.jpg\",\n",
    "                 caption =\"Technical Scripter Event 2019\")"
   ]
  },
  {
   "cell_type": "code",
   "execution_count": 94,
   "metadata": {},
   "outputs": [
    {
     "data": {
      "text/plain": [
       "['artsy', 'art']"
      ]
     },
     "execution_count": 94,
     "metadata": {},
     "output_type": "execute_result"
    }
   ],
   "source": [
    "L = Instaloader(user_agent='Mozilla/5.0 (iPhone; CPU iPhone OS 15_5 like Mac OS X) AppleWebKit/605.1.15 (KHTML, like Gecko) Mobile/15E148 Instagram 244.0.0.12.112 (iPhone12,1; iOS 15_5; en_US; en-US; scale=2.00; 828x1792; 383361019)',\n",
    "                download_videos=False,\n",
    "                download_video_thumbnails=False)\n",
    "L.login(data[\"username\"], data[\"password\"])\n",
    "profile = instaloader.Profile.from_username(L.context, 'airt_bot')\n",
    "\n",
    "followees = [i.username for i in profile.get_followees()]\n",
    "followees"
   ]
  },
  {
   "cell_type": "code",
   "execution_count": 95,
   "metadata": {},
   "outputs": [
    {
     "name": "stdout",
     "output_type": "stream",
     "text": [
      "artsy/2022-11-05_18-15-26_UTC_1.jpg exists artsy/2022-11-05_18-15-26_UTC_2.jpg exists artsy/2022-11-05_18-15-26_UTC_3.jpg exists [Woolwich Contemporary Print F…] unchanged json \n",
      "artsy/2022-11-04_19-15-26_UTC_1.jpg artsy/2022-11-04_19-15-26_UTC_2.jpg artsy/2022-11-04_19-15-26_UTC_3.jpg [Just refreshed: Trove. The be…] json \n",
      "artsy/2022-11-03_22-57-03_UTC_1.jpg artsy/2022-11-03_22-57-03_UTC_2.jpg artsy/2022-11-03_22-57-03_UTC_3.jpg [Jinbin Chen's latest show at …] json \n",
      "artsy/2022-11-03_07-10-18_UTC_1.jpg artsy/2022-11-03_07-10-18_UTC_2.jpg artsy/2022-11-03_07-10-18_UTC_3.jpg artsy/2022-11-03_07-10-18_UTC_4.jpg [ARTNOIR + Artsy are excited t…] json \n",
      "artsy/2022-11-03_00-39-29_UTC_1.jpg artsy/2022-11-03_00-39-29_UTC_2.jpg artsy/2022-11-03_00-39-29_UTC_3.jpg [Right now, the work of two ve…] json \n",
      "artsy/2022-11-02_10-55-24_UTC_1.jpg artsy/2022-11-02_10-55-24_UTC_2.jpg artsy/2022-11-02_10-55-24_UTC_3.jpg artsy/2022-11-02_10-55-24_UTC_4.jpg [Gérard Schneider's major retr…] json \n",
      "artsy/2022-11-02_03-50-20_UTC_1.jpg artsy/2022-11-02_03-50-20_UTC_2.jpg artsy/2022-11-02_03-50-20_UTC_3.jpg artsy/2022-11-02_03-50-20_UTC_4.jpg artsy/2022-11-02_03-50-20_UTC_5.jpg artsy/2022-11-02_03-50-20_UTC_6.jpg artsy/2022-11-02_03-50-20_UTC_7.jpg artsy/2022-11-02_03-50-20_UTC_8.jpg [Set in placid interiors, Dani…] json \n",
      "artsy/2022-11-01_23-30-22_UTC_1.jpg artsy/2022-11-01_23-30-22_UTC_2.jpg [Now → then⁠ •⁠ #CeliaJacobs, …] json \n",
      "artsy/2022-11-01_18-20-27_UTC_1.jpg artsy/2022-11-01_18-20-27_UTC_2.jpg artsy/2022-11-01_18-20-27_UTC_3.jpg [Richard Learoyd's latest show…] json \n",
      "artsy/2022-11-01_09-25-18_UTC_1.jpg artsy/2022-11-01_09-25-18_UTC_2.jpg artsy/2022-11-01_09-25-18_UTC_3.jpg [Artsy is honored to present \"…] json \n",
      "artsy/2022-11-01_00-10-22_UTC_1.jpg artsy/2022-11-01_00-10-22_UTC_2.jpg artsy/2022-11-01_00-10-22_UTC_3.jpg [Nathaniel Oliver’s success co…] json \n",
      "artsy/2022-10-31_21-20-28_UTC_1.jpg artsy/2022-10-31_21-20-28_UTC_2.jpg [The sensuous mixed-media artw…] json \n",
      "artsy/2022-10-31_06-15-15_UTC.jpg [#PierreJulien, WOO 004, 2022 …] json \n",
      "artsy/2022-10-30_17-35-18_UTC_1.jpg artsy/2022-10-30_17-35-18_UTC_2.jpg artsy/2022-10-30_17-35-18_UTC_3.jpg artsy/2022-10-30_17-35-18_UTC_4.jpg artsy/2022-10-30_17-35-18_UTC_5.jpg [Swipe to see the artworks tha…] json \n",
      "artsy/2022-10-30_14-20-19_UTC_1.jpg artsy/2022-10-30_14-20-19_UTC_2.jpg [A leading figure of the Light…] json \n",
      "artsy/2022-10-30_06-30-17_UTC.jpg [#WendyPark, Socks In A Box, 2…] json \n",
      "artsy/2022-10-29_14-35-21_UTC_1.jpg artsy/2022-10-29_14-35-21_UTC_2.jpg artsy/2022-10-29_14-35-21_UTC_3.jpg [Fan Ho, earned his fame as on…] json \n",
      "artsy/2022-10-29_06-40-13_UTC.jpg [#YoonJunghee, 7 Square Loops …] json \n",
      "artsy/2022-10-29_00-25-15_UTC_1.jpg artsy/2022-10-29_00-25-15_UTC_2.jpg artsy/2022-10-29_00-25-15_UTC_3.jpg artsy/2022-10-29_00-25-15_UTC_4.jpg [In the era of the selfie, wha…] json \n",
      "[Omar Bar’s latest show at Tem…] json \n",
      "artsy/2022-10-28_21-20-17_UTC_1.jpg artsy/2022-10-28_21-20-17_UTC_2.jpg artsy/2022-10-28_21-20-17_UTC_3.jpg artsy/2022-10-28_21-20-17_UTC_4.jpg [The IFPDA Print Fair (@ifpda)…] json \n",
      "artsy/2022-10-28_18-35-20_UTC_1.jpg artsy/2022-10-28_18-35-20_UTC_2.jpg artsy/2022-10-28_18-35-20_UTC_3.jpg [Just refreshed: Trove. The be…] json \n",
      "artsy/2022-10-28_14-25-35_UTC_1.jpg artsy/2022-10-28_14-25-35_UTC_2.jpg artsy/2022-10-28_14-25-35_UTC_3.jpg [With her lively, gestural exp…] json \n",
      "artsy/2022-10-28_06-35-17_UTC.jpg [#RachelRickert, Reverie, 2021…] json \n",
      "artsy/2022-10-27_14-55-19_UTC_1.jpg artsy/2022-10-27_14-55-19_UTC_2.jpg [Drawing on his training as an…] json \n",
      "artsy/2022-10-27_06-50-12_UTC.jpg [#JonasWood, Kitchen Interior,…] json \n",
      "artsy/2022-10-26_21-20-21_UTC_1.jpg artsy/2022-10-26_21-20-21_UTC_2.jpg artsy/2022-10-26_21-20-21_UTC_3.jpg [Luc Tuymans’s muted, mysterio…] json \n",
      "artsy/2022-10-26_19-05-37_UTC_1.jpg artsy/2022-10-26_19-05-37_UTC_2.jpg artsy/2022-10-26_19-05-37_UTC_3.jpg [At the press conference on Oc…] json \n",
      "artsy/2022-10-26_16-30-45_UTC_1.jpg artsy/2022-10-26_16-30-45_UTC_2.jpg artsy/2022-10-26_16-30-45_UTC_3.jpg [Frank Bowling’s luminous abst…] json \n",
      "artsy/2022-10-26_06-40-18_UTC.jpg [#SarahLetovsky, Girl Seated o…] json \n",
      "artsy/2022-10-26_01-45-26_UTC_1.jpg artsy/2022-10-26_01-45-26_UTC_2.jpg artsy/2022-10-26_01-45-26_UTC_3.jpg [Tyrrell Winston is known for …] json \n",
      "artsy/2022-10-25_15-40-20_UTC_1.jpg artsy/2022-10-25_15-40-20_UTC_2.jpg artsy/2022-10-25_15-40-20_UTC_3.jpg artsy/2022-10-25_15-40-20_UTC_4.jpg [Swipe to explore what's hot a…] json \n",
      "artsy/2022-10-25_06-40-20_UTC.jpg [#UlalaImai, Oyster, 2020 🦪• C…] json \n",
      "[Alvin Armstrong’s latest show…] json \n",
      "artsy/2022-10-24_23-55-22_UTC_1.jpg artsy/2022-10-24_23-55-22_UTC_2.jpg artsy/2022-10-24_23-55-22_UTC_3.jpg [The latest group show at OMR …] json \n",
      "artsy/2022-10-24_14-45-23_UTC_1.jpg artsy/2022-10-24_14-45-23_UTC_2.jpg artsy/2022-10-24_14-45-23_UTC_3.jpg [Known for combining photograp…] json \n",
      "artsy/2022-10-24_06-45-14_UTC.jpg [#MatthewEguavoen, Anywhere Bu…] json \n",
      "artsy/2022-10-23_19-15-27_UTC_1.jpg artsy/2022-10-23_19-15-27_UTC_2.jpg artsy/2022-10-23_19-15-27_UTC_3.jpg [At the inaugural edition of P…] json \n",
      "artsy/2022-10-23_14-35-20_UTC_1.jpg artsy/2022-10-23_14-35-20_UTC_2.jpg artsy/2022-10-23_14-35-20_UTC_3.jpg [In vibrant, sorbet-colored la…] json \n",
      "artsy/2022-10-23_06-30-24_UTC.jpg [#CarolineWong, Semin, 2022 🥳•…] json \n",
      "artsy/2022-10-22_23-35-16_UTC_1.jpg artsy/2022-10-22_23-35-16_UTC_2.jpg artsy/2022-10-22_23-35-16_UTC_3.jpg [Going into last week’s London…] json \n",
      "artsy/2022-10-22_19-30-29_UTC_1.jpg artsy/2022-10-22_19-30-29_UTC_2.jpg artsy/2022-10-22_19-30-29_UTC_3.jpg artsy/2022-10-22_19-30-29_UTC_4.jpg artsy/2022-10-22_19-30-29_UTC_5.jpg [Swipe to see the artworks tha…] json \n",
      "artsy/2022-10-22_14-15-18_UTC_1.jpg artsy/2022-10-22_14-15-18_UTC_2.jpg [Oscar Murillo's calligraphic,…] json \n",
      "artsy/2022-10-22_06-15-34_UTC.jpg [#MiyeonYi, Bath Time for a Ca…] json \n",
      "artsy/2022-10-21_22-25-25_UTC_1.jpg artsy/2022-10-21_22-25-25_UTC_2.jpg artsy/2022-10-21_22-25-25_UTC_3.jpg artsy/2022-10-21_22-25-25_UTC_4.jpg artsy/2022-10-21_22-25-25_UTC_5.jpg artsy/2022-10-21_22-25-25_UTC_6.jpg [In parallel with Paris+ par A…] json \n",
      "artsy/2022-10-21_18-30-34_UTC_1.jpg artsy/2022-10-21_18-30-34_UTC_2.jpg artsy/2022-10-21_18-30-34_UTC_3.jpg [Just refreshed: Trove. The be…] json \n",
      "artsy/2022-10-21_14-30-34_UTC_1.jpg artsy/2022-10-21_14-30-34_UTC_2.jpg [Carol Bove makes poetic, anth…] json \n",
      "artsy/2022-10-21_06-10-15_UTC.jpg [#SungiMlengeya, Come, 2022 • …] json \n",
      "artsy/2022-10-21_02-15-19_UTC_1.jpg artsy/2022-10-21_02-15-19_UTC_2.jpg artsy/2022-10-21_02-15-19_UTC_3.jpg artsy/2022-10-21_02-15-19_UTC_4.jpg [During a 1986 interview with …] json \n",
      "artsy/2022-10-20_19-35-28_UTC_1.jpg artsy/2022-10-20_19-35-28_UTC_2.jpg artsy/2022-10-20_19-35-28_UTC_3.jpg artsy/2022-10-20_19-35-28_UTC_4.jpg artsy/2022-10-20_19-35-28_UTC_5.jpg [🇫🇷 Explore and collect our cu…] json \n",
      "artsy/2022-10-20_14-25-17_UTC_1.jpg artsy/2022-10-20_14-25-17_UTC_2.jpg artsy/2022-10-20_14-25-17_UTC_3.jpg [Tschabalala Self’s layered po…] json \n",
      "artsy/2022-10-20_06-30-22_UTC.jpg [#WolfgangTillmans, Beautiful …] json \n",
      "artsy/2022-10-20_02-15-20_UTC_1.jpg artsy/2022-10-20_02-15-20_UTC_2.jpg artsy/2022-10-20_02-15-20_UTC_3.jpg [Throughout her expansive prac…] json \n",
      "artsy/2022-10-19_22-55-21_UTC_1.jpg artsy/2022-10-19_22-55-21_UTC_2.jpg artsy/2022-10-19_22-55-21_UTC_3.jpg artsy/2022-10-19_22-55-21_UTC_4.jpg artsy/2022-10-19_22-55-21_UTC_5.jpg [Paris has always been a siren…] json \n",
      "artsy/2022-10-19_19-20-25_UTC_1.jpg artsy/2022-10-19_19-20-25_UTC_2.jpg artsy/2022-10-19_19-20-25_UTC_3.jpg artsy/2022-10-19_19-20-25_UTC_4.jpg [In 2018, artist Matthew Wong …] json \n",
      "artsy/2022-10-19_16-05-26_UTC_1.jpg artsy/2022-10-19_16-05-26_UTC_2.jpg artsy/2022-10-19_16-05-26_UTC_3.jpg artsy/2022-10-19_16-05-26_UTC_4.jpg [From October 12th through 16t…] json \n",
      "artsy/2022-10-19_12-30-30_UTC_1.jpg artsy/2022-10-19_12-30-30_UTC_2.jpg artsy/2022-10-19_12-30-30_UTC_3.jpg artsy/2022-10-19_12-30-30_UTC_4.jpg artsy/2022-10-19_12-30-30_UTC_5.jpg [Artsy is honored to present t…] json \n",
      "artsy/2022-10-19_06-30-18_UTC.jpg [#PeterBlake, Late Period – St…] json \n",
      "artsy/2022-10-19_03-15-26_UTC_1.jpg artsy/2022-10-19_03-15-26_UTC_2.jpg artsy/2022-10-19_03-15-26_UTC_3.jpg artsy/2022-10-19_03-15-26_UTC_4.jpg artsy/2022-10-19_03-15-26_UTC_5.jpg [📍Our latest collaboration wit…] json \n",
      "artsy/2022-10-18_23-20-20_UTC_1.jpg artsy/2022-10-18_23-20-20_UTC_2.jpg artsy/2022-10-18_23-20-20_UTC_3.jpg artsy/2022-10-18_23-20-20_UTC_4.jpg artsy/2022-10-18_23-20-20_UTC_5.jpg [Asia Now Paris (@asianow) is …] json \n",
      "[We’re thrilled to have partne…] json \n",
      "artsy/2022-10-18_18-30-35_UTC_1.jpg artsy/2022-10-18_18-30-35_UTC_2.jpg artsy/2022-10-18_18-30-35_UTC_3.jpg artsy/2022-10-18_18-30-35_UTC_4.jpg artsy/2022-10-18_18-30-35_UTC_5.jpg [Swipe to explore what's hot a…] json \n",
      "artsy/2022-10-18_14-25-17_UTC_1.jpg artsy/2022-10-18_14-25-17_UTC_2.jpg artsy/2022-10-18_14-25-17_UTC_3.jpg [Along with her contemporaries…] json \n",
      "artsy/2022-10-18_06-25-19_UTC.jpg [#ChrissyAngliker, In the Weed…] json \n",
      "artsy/2022-10-18_01-05-25_UTC_1.jpg artsy/2022-10-18_01-05-25_UTC_2.jpg artsy/2022-10-18_01-05-25_UTC_3.jpg artsy/2022-10-18_01-05-25_UTC_4.jpg [Mire Lee creates carnivorous …] json \n",
      "artsy/2022-10-17_19-15-40_UTC_1.jpg artsy/2022-10-17_19-15-40_UTC_2.jpg artsy/2022-10-17_19-15-40_UTC_3.jpg artsy/2022-10-17_19-15-40_UTC_4.jpg artsy/2022-10-17_19-15-40_UTC_5.jpg artsy/2022-10-17_19-15-40_UTC_6.jpg artsy/2022-10-17_19-15-40_UTC_7.jpg [In celebration of U.K. Black …] json \n",
      "artsy/2022-10-17_18-25-20_UTC_1.jpg artsy/2022-10-17_18-25-20_UTC_2.jpg artsy/2022-10-17_18-25-20_UTC_3.jpg [British-Nigerian artist Sola …] json \n",
      "[1-54 Contemporary African Art…] json \n",
      "artsy/2022-10-17_06-25-16_UTC.jpg [#LouiseDahlWolfe, Looking at …] json \n",
      "artsy/2022-10-17_00-35-19_UTC_1.jpg artsy/2022-10-17_00-35-19_UTC_2.jpg artsy/2022-10-17_00-35-19_UTC_3.jpg [Jean-Marie Appriou’s latest s…] json \n",
      "artsy/2022-10-16_21-45-18_UTC_1.jpg artsy/2022-10-16_21-45-18_UTC_2.jpg artsy/2022-10-16_21-45-18_UTC_3.jpg artsy/2022-10-16_21-45-18_UTC_4.jpg [This week, the 1-54 Contempor…] json \n",
      "artsy/2022-10-16_18-30-21_UTC_1.jpg artsy/2022-10-16_18-30-21_UTC_2.jpg artsy/2022-10-16_18-30-21_UTC_3.jpg artsy/2022-10-16_18-30-21_UTC_4.jpg artsy/2022-10-16_18-30-21_UTC_5.jpg [Mounted on the heels of Cecil…] json \n",
      "artsy/2022-10-16_14-30-21_UTC_1.jpg artsy/2022-10-16_14-30-21_UTC_2.jpg artsy/2022-10-16_14-30-21_UTC_3.jpg [Philip Taaffe's visually exub…] json \n",
      "artsy/2022-10-16_06-35-18_UTC.jpg [#KathrynMecca, Green Pants, 2…] json \n",
      "artsy/2022-10-16_01-50-16_UTC_1.jpg artsy/2022-10-16_01-50-16_UTC_2.jpg artsy/2022-10-16_01-50-16_UTC_3.jpg artsy/2022-10-16_01-50-16_UTC_4.jpg [Online tools, from marketplac…] json \n",
      "artsy/2022-10-15_22-45-24_UTC_1.jpg artsy/2022-10-15_22-45-24_UTC_2.jpg artsy/2022-10-15_22-45-24_UTC_3.jpg artsy/2022-10-15_22-45-24_UTC_4.jpg artsy/2022-10-15_22-45-24_UTC_5.jpg artsy/2022-10-15_22-45-24_UTC_6.jpg artsy/2022-10-15_22-45-24_UTC_7.jpg artsy/2022-10-15_22-45-24_UTC_8.jpg artsy/2022-10-15_22-45-24_UTC_9.jpg [This year, Frieze returns to …] json \n",
      "artsy/2022-10-15_20-00-56_UTC_1.jpg artsy/2022-10-15_20-00-56_UTC_2.jpg artsy/2022-10-15_20-00-56_UTC_3.jpg artsy/2022-10-15_20-00-56_UTC_4.jpg artsy/2022-10-15_20-00-56_UTC_5.jpg [Swipe to see the artworks tha…] json \n",
      "artsy/2022-10-15_14-40-18_UTC_1.jpg artsy/2022-10-15_14-40-18_UTC_2.jpg artsy/2022-10-15_14-40-18_UTC_3.jpg [In her ever-evolving practice…] json \n",
      "artsy/2022-10-15_06-20-16_UTC.jpg [#EliKauffman, But I'm a Cheer…] json \n",
      "artsy/2022-10-14_21-30-32_UTC_1.jpg artsy/2022-10-14_21-30-32_UTC_2.jpg artsy/2022-10-14_21-30-32_UTC_3.jpg artsy/2022-10-14_21-30-32_UTC_4.jpg artsy/2022-10-14_21-30-32_UTC_5.jpg [1-54 Contemporary African Art…] json \n",
      "artsy/2022-10-14_18-40-19_UTC_1.jpg artsy/2022-10-14_18-40-19_UTC_2.jpg artsy/2022-10-14_18-40-19_UTC_3.jpg [Just refreshed: Trove. The be…] json \n",
      "artsy/2022-10-14_14-35-16_UTC_1.jpg artsy/2022-10-14_14-35-16_UTC_2.jpg [Disillusioned with the art wo…] json \n",
      "artsy/2022-10-14_06-35-16_UTC.jpg [#KirstenEverberg, Hop Louie, …] json \n",
      "artsy/2022-10-13_16-17-30_UTC_1.jpg artsy/2022-10-13_16-17-30_UTC_2.jpg artsy/2022-10-13_16-17-30_UTC_3.jpg artsy/2022-10-13_16-17-30_UTC_4.jpg [For this year’s edition of BM…] json \n",
      "artsy/2022-10-13_14-25-18_UTC_1.jpg artsy/2022-10-13_14-25-18_UTC_2.jpg artsy/2022-10-13_14-25-18_UTC_3.jpg [Through her multi-disciplinar…] json \n",
      "artsy/2022-10-13_06-25-18_UTC.jpg [#EmmaHapner, Lady in Pink, 20…] json \n",
      "artsy/2022-10-13_02-35-22_UTC_1.jpg artsy/2022-10-13_02-35-22_UTC_2.jpg artsy/2022-10-13_02-35-22_UTC_3.jpg artsy/2022-10-13_02-35-22_UTC_4.jpg [A year shy from its 20th anni…] json \n",
      "[The masterful works of artist…] json \n",
      "artsy/2022-10-12_14-45-24_UTC_1.jpg artsy/2022-10-12_14-45-24_UTC_2.jpg artsy/2022-10-12_14-45-24_UTC_3.jpg [Navigating through the river …] json \n",
      "artsy/2022-10-12_06-35-19_UTC.jpg [#KatherineBlackburne, I Love …] json \n",
      "artsy/2022-10-11_21-25-18_UTC_1.jpg artsy/2022-10-11_21-25-18_UTC_2.jpg artsy/2022-10-11_21-25-18_UTC_3.jpg [As part of Frieze London 2022…] json \n",
      "artsy/2022-10-11_18-20-18_UTC_1.jpg artsy/2022-10-11_18-20-18_UTC_2.jpg artsy/2022-10-11_18-20-18_UTC_3.jpg artsy/2022-10-11_18-20-18_UTC_4.jpg artsy/2022-10-11_18-20-18_UTC_5.jpg [Swipe to explore what's hot a…] json \n",
      "artsy/2022-10-11_14-35-17_UTC_1.jpg artsy/2022-10-11_14-35-17_UTC_2.jpg [Julie Curtiss makes unsettlin…] json \n",
      "artsy/2022-10-10_19-50-18_UTC_1.jpg artsy/2022-10-10_19-50-18_UTC_2.jpg artsy/2022-10-10_19-50-18_UTC_3.jpg [As part of Frieze London, Shi…] json \n",
      "artsy/2022-10-10_16-15-34_UTC_1.jpg artsy/2022-10-10_16-15-34_UTC_2.jpg artsy/2022-10-10_16-15-34_UTC_3.jpg [With vibrant swirls of color …] json \n",
      "artsy/2022-10-10_06-40-15_UTC.jpg [#AlejandroPiñeiroBello, La Má…] json \n",
      "artsy/2022-10-09_19-30-26_UTC_1.jpg artsy/2022-10-09_19-30-26_UTC_2.jpg artsy/2022-10-09_19-30-26_UTC_3.jpg artsy/2022-10-09_19-30-26_UTC_4.jpg artsy/2022-10-09_19-30-26_UTC_5.jpg [Using oral histories and rese…] json \n",
      "artsy/2022-10-09_14-20-21_UTC_1.jpg artsy/2022-10-09_14-20-21_UTC_2.jpg artsy/2022-10-09_14-20-21_UTC_3.jpg [Karin “Mamma” Andersson is an…] json \n",
      "artsy/2022-10-09_06-30-19_UTC.jpg [#KenTaylor, Crying Sombrero, …] json \n",
      "artsy/2022-10-09_02-16-16_UTC_1.jpg artsy/2022-10-09_02-16-16_UTC_2.jpg artsy/2022-10-09_02-16-16_UTC_3.jpg [Coinciding with Frieze London…] json \n",
      "artsy/2022-10-08_20-40-17_UTC_1.jpg artsy/2022-10-08_20-40-17_UTC_2.jpg artsy/2022-10-08_20-40-17_UTC_3.jpg artsy/2022-10-08_20-40-17_UTC_4.jpg artsy/2022-10-08_20-40-17_UTC_5.jpg [Swipe to see the artworks tha…] json \n",
      "artsy/2022-10-08_14-40-19_UTC_1.jpg artsy/2022-10-08_14-40-19_UTC_2.jpg artsy/2022-10-08_14-40-19_UTC_3.jpg [With wry nods to art historic…] json \n",
      "artsy/2022-10-08_06-40-22_UTC.jpg [#ErnestoGutiérrezMoya, The Ga…] json \n",
      "artsy/2022-10-08_01-55-18_UTC_1.jpg artsy/2022-10-08_01-55-18_UTC_2.jpg artsy/2022-10-08_01-55-18_UTC_3.jpg artsy/2022-10-08_01-55-18_UTC_4.jpg artsy/2022-10-08_01-55-18_UTC_5.jpg [During her time at the Clover…] json \n",
      "artsy/2022-10-07_23-20-22_UTC_1.jpg artsy/2022-10-07_23-20-22_UTC_2.jpg artsy/2022-10-07_23-20-22_UTC_3.jpg [Throughout her long career, p…] json \n",
      "artsy/2022-10-07_20-50-28_UTC_1.jpg artsy/2022-10-07_20-50-28_UTC_2.jpg artsy/2022-10-07_20-50-28_UTC_3.jpg artsy/2022-10-07_20-50-28_UTC_4.jpg artsy/2022-10-07_20-50-28_UTC_5.jpg artsy/2022-10-07_20-50-28_UTC_6.jpg artsy/2022-10-07_20-50-28_UTC_7.jpg artsy/2022-10-07_20-50-28_UTC_8.jpg artsy/2022-10-07_20-50-28_UTC_9.jpg [Arteba 2022 (@artebafundacion…] json \n",
      "artsy/2022-10-07_18-02-43_UTC_1.jpg artsy/2022-10-07_18-02-43_UTC_2.jpg artsy/2022-10-07_18-02-43_UTC_3.jpg [Just refreshed: Trove. The be…] json \n",
      "artsy/2022-10-07_14-35-18_UTC_1.jpg artsy/2022-10-07_14-35-18_UTC_2.jpg artsy/2022-10-07_14-35-18_UTC_3.jpg [Marcel Dzama draws from folk …] json \n",
      "artsy/2022-10-07_06-50-16_UTC.jpg [#AnnaWardęga, Untitled, 2022 …] json \n",
      "[Pamela Phatsimo Sunstrum’s la…] json \n",
      "artsy/2022-10-06_21-35-19_UTC_1.jpg artsy/2022-10-06_21-35-19_UTC_2.jpg artsy/2022-10-06_21-35-19_UTC_3.jpg artsy/2022-10-06_21-35-19_UTC_4.jpg artsy/2022-10-06_21-35-19_UTC_5.jpg [Meet the artists on our radar…] json \n",
      "artsy/2022-10-06_19-26-18_UTC_1.jpg artsy/2022-10-06_19-26-18_UTC_2.jpg [“The Freedom We Fight For,\" a…] json \n",
      "artsy/2022-10-06_18-40-20_UTC_1.jpg artsy/2022-10-06_18-40-20_UTC_2.jpg artsy/2022-10-06_18-40-20_UTC_3.jpg [Jordan Kerwick’s gritty, thic…] json \n",
      "artsy/2022-10-06_06-25-17_UTC.jpg [#AnjaSalonen, Mycelial Kiss, …] json \n",
      "artsy/2022-10-05_18-30-39_UTC_1.jpg artsy/2022-10-05_18-30-39_UTC_2.jpg artsy/2022-10-05_18-30-39_UTC_3.jpg [Alex Garant’s portraits focus…] json \n",
      "artsy/2022-10-05_06-45-19_UTC.jpg [#NettleGrellier, It Isn't You…] json \n",
      "artsy/2022-10-04_23-05-29_UTC_1.jpg artsy/2022-10-04_23-05-29_UTC_2.jpg artsy/2022-10-04_23-05-29_UTC_3.jpg [Swiss artist Chrissy Angliker…] json \n",
      "artsy/2022-10-04_20-35-26_UTC_1.jpg artsy/2022-10-04_20-35-26_UTC_2.jpg artsy/2022-10-04_20-35-26_UTC_3.jpg artsy/2022-10-04_20-35-26_UTC_4.jpg artsy/2022-10-04_20-35-26_UTC_5.jpg [Swipe to explore what's hot a…] json \n",
      "artsy/2022-10-04_18-10-20_UTC_1.jpg artsy/2022-10-04_18-10-20_UTC_2.jpg artsy/2022-10-04_18-10-20_UTC_3.jpg [Brook Hsu’s latest show at Ki…] json \n",
      "artsy/2022-10-04_08-40-16_UTC.jpg [#JayMiriam, Wine in the Midst…] json \n",
      "artsy/2022-10-04_06-25-18_UTC_1.jpg artsy/2022-10-04_06-25-18_UTC_2.jpg artsy/2022-10-04_06-25-18_UTC_3.jpg artsy/2022-10-04_06-25-18_UTC_4.jpg [The latest show at Catto Gall…] json \n",
      "artsy/2022-10-03_19-30-36_UTC_1.jpg artsy/2022-10-03_19-30-36_UTC_2.jpg artsy/2022-10-03_19-30-36_UTC_3.jpg artsy/2022-10-03_19-30-36_UTC_4.jpg [Birthed from equal parts make…] json \n",
      "artsy/2022-10-03_06-30-13_UTC.jpg [#SzawelPlociennik, Dino & Cec…] json \n",
      "artsy/2022-10-02_14-05-19_UTC_1.jpg artsy/2022-10-02_14-05-19_UTC_2.jpg artsy/2022-10-02_14-05-19_UTC_3.jpg [Connecting threads of contemp…] json \n",
      "artsy/2022-10-02_06-35-16_UTC.jpg [#LincolnLin, Untitled from Am…] json \n",
      "artsy/2022-10-01_23-30-22_UTC_1.jpg artsy/2022-10-01_23-30-22_UTC_2.jpg artsy/2022-10-01_23-30-22_UTC_3.jpg artsy/2022-10-01_23-30-22_UTC_4.jpg [Rafael de Cárdenas' approach …] json \n",
      "artsy/2022-10-01_20-15-26_UTC_1.jpg artsy/2022-10-01_20-15-26_UTC_2.jpg artsy/2022-10-01_20-15-26_UTC_3.jpg artsy/2022-10-01_20-15-26_UTC_4.jpg [vanessa german describes hers…] json \n",
      "artsy/2022-10-01_17-30-33_UTC_1.jpg artsy/2022-10-01_17-30-33_UTC_2.jpg artsy/2022-10-01_17-30-33_UTC_3.jpg artsy/2022-10-01_17-30-33_UTC_4.jpg artsy/2022-10-01_17-30-33_UTC_5.jpg [Swipe to see the artworks tha…] json \n",
      "artsy/2022-10-01_14-05-19_UTC_1.jpg artsy/2022-10-01_14-05-19_UTC_2.jpg artsy/2022-10-01_14-05-19_UTC_3.jpg [An artist, designer, and colu…] json \n",
      "artsy/2022-10-01_06-10-19_UTC.jpg [#SebastianHosu, Sun Outside, …] json \n",
      "artsy/2022-09-30_23-20-39_UTC_1.jpg artsy/2022-09-30_23-20-39_UTC_2.jpg artsy/2022-09-30_23-20-39_UTC_3.jpg artsy/2022-09-30_23-20-39_UTC_4.jpg [The Carnegie International, t…] json \n",
      "artsy/2022-09-30_20-25-22_UTC_1.jpg artsy/2022-09-30_20-25-22_UTC_2.jpg artsy/2022-09-30_20-25-22_UTC_3.jpg [The latest show at Buchmann G…] json \n",
      "artsy/2022-09-30_17-30-38_UTC_1.jpg artsy/2022-09-30_17-30-38_UTC_2.jpg artsy/2022-09-30_17-30-38_UTC_3.jpg [Just refreshed: Trove. The be…] json \n",
      "artsy/2022-09-30_14-10-17_UTC_1.jpg artsy/2022-09-30_14-10-17_UTC_2.jpg artsy/2022-09-30_14-10-17_UTC_3.jpg [Anthony Olubunmi Akinbola use…] json \n",
      "artsy/2022-09-30_06-35-12_UTC.jpg [#DylanVandenhoeck, The Hollan…] json \n",
      "artsy/2022-09-30_00-10-25_UTC_1.jpg artsy/2022-09-30_00-10-25_UTC_2.jpg artsy/2022-09-30_00-10-25_UTC_3.jpg [Artsy is honored to present \"…] json \n",
      "artsy/2022-09-29_18-02-24_UTC.jpg [🎵 Artsy Mixtape 030 just drop…] json \n",
      "artsy/2022-09-29_14-10-21_UTC_1.jpg artsy/2022-09-29_14-10-21_UTC_2.jpg artsy/2022-09-29_14-10-21_UTC_3.jpg [It is during the night that S…] json \n",
      "artsy/2022-09-29_06-25-16_UTC.jpg [#AkhmatBiikanov, Let There Be…] json \n",
      "artsy/2022-09-29_00-55-23_UTC_1.jpg artsy/2022-09-29_00-55-23_UTC_2.jpg artsy/2022-09-29_00-55-23_UTC_3.jpg artsy/2022-09-29_00-55-23_UTC_4.jpg artsy/2022-09-29_00-55-23_UTC_5.jpg [Stanley Whitney’s new paintin…] json \n",
      "[“1-800 Happy Birthday,” a pow…] json \n",
      "artsy/2022-09-28_19-02-43_UTC_1.jpg artsy/2022-09-28_19-02-43_UTC_2.jpg artsy/2022-09-28_19-02-43_UTC_3.jpg [From the tip of his graphite …] json \n",
      "artsy/2022-09-28_16-50-18_UTC_1.jpg artsy/2022-09-28_16-50-18_UTC_2.jpg artsy/2022-09-28_16-50-18_UTC_3.jpg [Nina Chanel Abney’s latest sh…] json \n",
      "artsy/2022-09-28_06-20-18_UTC.jpg [#SamiHavia, Waiting, 2022 🌳• …] json \n",
      "artsy/2022-09-28_00-30-19_UTC_1.jpg artsy/2022-09-28_00-30-19_UTC_2.jpg artsy/2022-09-28_00-30-19_UTC_3.jpg [In “To look without fear,” a …] json \n",
      "artsy/2022-09-27_20-55-22_UTC_1.jpg artsy/2022-09-27_20-55-22_UTC_2.jpg artsy/2022-09-27_20-55-22_UTC_3.jpg [Fernando Botero’s latest show…] json \n",
      "artsy/2022-09-27_17-05-31_UTC_1.jpg artsy/2022-09-27_17-05-31_UTC_2.jpg artsy/2022-09-27_17-05-31_UTC_3.jpg artsy/2022-09-27_17-05-31_UTC_4.jpg artsy/2022-09-27_17-05-31_UTC_5.jpg [Swipe to explore what's hot a…] json \n",
      "artsy/2022-09-27_13-30-40_UTC_1.jpg artsy/2022-09-27_13-30-40_UTC_2.jpg artsy/2022-09-27_13-30-40_UTC_3.jpg [Night’s hallucinatory impact …] json \n",
      "artsy/2022-09-27_06-35-10_UTC.jpg [#MathewTom, The Dance, 2022 💃…] json \n",
      "artsy/2022-09-27_01-55-15_UTC_1.jpg artsy/2022-09-27_01-55-15_UTC_2.jpg artsy/2022-09-27_01-55-15_UTC_3.jpg [Timothy Lai’s colorful, fluid…] json \n",
      "artsy/2022-09-26_23-20-19_UTC_1.jpg artsy/2022-09-26_23-20-19_UTC_2.jpg artsy/2022-09-26_23-20-19_UTC_3.jpg [Tom Price’s latest show at Ar…] json \n",
      "artsy/2022-09-26_20-45-25_UTC_1.jpg artsy/2022-09-26_20-45-25_UTC_2.jpg artsy/2022-09-26_20-45-25_UTC_3.jpg artsy/2022-09-26_20-45-25_UTC_4.jpg artsy/2022-09-26_20-45-25_UTC_5.jpg [Issy Wood’s paintings functio…] json \n",
      "artsy/2022-09-26_06-30-17_UTC.jpg [#GraceTobin, Everything But, …] json \n",
      "artsy/2022-09-25_06-30-17_UTC.jpg [#MarkLaver, The Beginning of …] json \n",
      "artsy/2022-09-24_06-10-16_UTC.jpg [#JoshuaPetker, Red Recline, 2…] json \n",
      "artsy/2022-09-23_16-42-39_UTC.jpg [Everette Taylor’s impact on A…] json \n",
      "artsy/2022-09-23_06-05-22_UTC.jpg [#CristianAvram, Untitled (Hol…] json \n",
      "[To support Art for Justice Fu…] json \n",
      "artsy/2022-09-22_19-05-14_UTC.jpg [“The Freedom We Fight For,\" a…] json \n",
      "artsy/2022-09-22_06-25-16_UTC.jpg [#PreetikaRajgariah, Sometimes…] json \n",
      "artsy/2022-09-22_04-04-46_UTC_1.jpg artsy/2022-09-22_04-04-46_UTC_2.jpg artsy/2022-09-22_04-04-46_UTC_3.jpg artsy/2022-09-22_04-04-46_UTC_4.jpg [For our current Post-War and …] json \n",
      "artsy/2022-09-21_21-54-15_UTC_1.jpg artsy/2022-09-21_21-54-15_UTC_2.jpg artsy/2022-09-21_21-54-15_UTC_3.jpg artsy/2022-09-21_21-54-15_UTC_4.jpg artsy/2022-09-21_21-54-15_UTC_5.jpg [Idris Khan’s latest show at S…] json \n",
      "artsy/2022-09-21_06-20-16_UTC.jpg [#RebeccaNess, Group Undress, …] json \n",
      "artsy/2022-09-20_14-55-25_UTC_1.jpg artsy/2022-09-20_14-55-25_UTC_2.jpg artsy/2022-09-20_14-55-25_UTC_3.jpg artsy/2022-09-20_14-55-25_UTC_4.jpg artsy/2022-09-20_14-55-25_UTC_5.jpg [Swipe to explore what's hot a…] json \n",
      "artsy/2022-09-20_06-15-19_UTC.jpg [#DavidMacho, What’s Happening…] json \n",
      "artsy/2022-09-19_23-25-24_UTC_1.jpg artsy/2022-09-19_23-25-24_UTC_2.jpg artsy/2022-09-19_23-25-24_UTC_3.jpg [The latest show at Villepin (…] json \n",
      "artsy/2022-09-19_16-10-08_UTC_1.jpg artsy/2022-09-19_16-10-08_UTC_2.jpg artsy/2022-09-19_16-10-08_UTC_3.jpg artsy/2022-09-19_16-10-08_UTC_4.jpg artsy/2022-09-19_16-10-08_UTC_5.jpg [\"In Residence\" at Mexico City…] json \n",
      "artsy/2022-09-19_06-30-13_UTC.jpg [#CharlesSearles, Eyeway I, 20…] json \n",
      "artsy/2022-09-18_06-15-21_UTC.jpg [#DavidHockney, Untitled (577)…] json \n",
      "artsy/2022-09-17_06-05-21_UTC.jpg [#MindaAndrén, E-boy Selfie, 2…] json \n",
      "artsy/2022-09-16_20-50-20_UTC_1.jpg artsy/2022-09-16_20-50-20_UTC_2.jpg artsy/2022-09-16_20-50-20_UTC_3.jpg artsy/2022-09-16_20-50-20_UTC_4.jpg [POSITIONS Berlin (@positions.…] json \n",
      "artsy/2022-09-16_13-55-16_UTC_1.jpg artsy/2022-09-16_13-55-16_UTC_2.jpg artsy/2022-09-16_13-55-16_UTC_3.jpg [A culmination of color, image…] json \n",
      "artsy/2022-09-16_06-10-16_UTC.jpg [#JPMika, Feti N’a Feti (C’est…] json \n",
      "artsy/2022-09-15_16-20-28_UTC.jpg [🎵 Artsy Mixtape 029 just drop…] json \n",
      "artsy/2022-09-15_06-10-21_UTC.jpg [#JunyiLiu, You Never Trust Me…] json \n",
      "artsy/2022-09-15_00-45-23_UTC_1.jpg artsy/2022-09-15_00-45-23_UTC_2.jpg artsy/2022-09-15_00-45-23_UTC_3.jpg artsy/2022-09-15_00-45-23_UTC_4.jpg artsy/2022-09-15_00-45-23_UTC_5.jpg [Bidding opens today on Artsy'…] json \n",
      "artsy/2022-09-14_18-35-19_UTC_1.jpg artsy/2022-09-14_18-35-19_UTC_2.jpg artsy/2022-09-14_18-35-19_UTC_3.jpg artsy/2022-09-14_18-35-19_UTC_4.jpg artsy/2022-09-14_18-35-19_UTC_5.jpg [Nokukhanya Langa’s latest sho…] json \n",
      "[📍Last week in Seoul with @seo…] json \n",
      "artsy/2022-09-14_14-15-24_UTC_1.jpg artsy/2022-09-14_14-15-24_UTC_2.jpg artsy/2022-09-14_14-15-24_UTC_3.jpg [Chris Ofili’s playful, kaleid…] json \n",
      "artsy/2022-09-14_06-25-21_UTC.jpg [#VitaOpolskyte, Passing By, H…] json \n",
      "artsy/2022-09-13_14-10-17_UTC_1.jpg artsy/2022-09-13_14-10-17_UTC_2.jpg artsy/2022-09-13_14-10-17_UTC_3.jpg [In his drawings, installation…] json \n",
      "artsy/2022-09-13_06-10-18_UTC.jpg [#AnnaMembrino, Understory No.…] json \n",
      "[🎫 Your VIP ticket to Independ…] json \n",
      "artsy/2022-09-12_22-40-21_UTC_1.jpg artsy/2022-09-12_22-40-21_UTC_2.jpg artsy/2022-09-12_22-40-21_UTC_3.jpg artsy/2022-09-12_22-40-21_UTC_4.jpg artsy/2022-09-12_22-40-21_UTC_5.jpg [The atmosphere felt undeniabl…] json \n",
      "artsy/2022-09-12_18-30-28_UTC_1.jpg artsy/2022-09-12_18-30-28_UTC_2.jpg artsy/2022-09-12_18-30-28_UTC_3.jpg [On September 9th, the Indepen…] json \n",
      "artsy/2022-09-12_14-05-26_UTC_1.jpg artsy/2022-09-12_14-05-26_UTC_2.jpg artsy/2022-09-12_14-05-26_UTC_3.jpg [Paris-based artist Lucile Gau…] json \n",
      "artsy/2022-09-12_06-10-15_UTC.jpg [#WayneThiebaud, Boxes, 1963 🧊…] json \n",
      "artsy/2022-09-12_02-30-26_UTC_1.jpg artsy/2022-09-12_02-30-26_UTC_2.jpg artsy/2022-09-12_02-30-26_UTC_3.jpg [“Don’t let darkness be a runn…] json \n",
      "artsy/2022-09-11_14-01-28_UTC_1.jpg artsy/2022-09-11_14-01-28_UTC_2.jpg artsy/2022-09-11_14-01-28_UTC_3.jpg [Devin Troy Strother’s exubera…] json \n",
      "artsy/2022-09-11_06-15-16_UTC.jpg [#Aboudia, Enfant Vert et Vert…] json \n",
      "artsy/2022-09-10_23-25-16_UTC_1.jpg artsy/2022-09-10_23-25-16_UTC_2.jpg artsy/2022-09-10_23-25-16_UTC_3.jpg artsy/2022-09-10_23-25-16_UTC_4.jpg artsy/2022-09-10_23-25-16_UTC_5.jpg [Swipe to see the artworks tha…] json \n",
      "artsy/2022-09-10_19-45-25_UTC_1.jpg artsy/2022-09-10_19-45-25_UTC_2.jpg artsy/2022-09-10_19-45-25_UTC_3.jpg [The latest show of works by A…] json \n",
      "artsy/2022-09-10_14-15-21_UTC_1.jpg artsy/2022-09-10_14-15-21_UTC_2.jpg [With bright, energetic brushs…] json \n",
      "artsy/2022-09-10_05-55-20_UTC.jpg [#AlicjaKwade, TransForm, 2021…] json \n",
      "artsy/2022-09-10_01-35-18_UTC_1.jpg artsy/2022-09-10_01-35-18_UTC_2.jpg artsy/2022-09-10_01-35-18_UTC_3.jpg artsy/2022-09-10_01-35-18_UTC_4.jpg artsy/2022-09-10_01-35-18_UTC_5.jpg [📍Our latest collaboration wit…] json \n",
      "[🎫 Your VIP ticket to The Armo…] json \n",
      "artsy/2022-09-09_21-52-38_UTC_1.jpg artsy/2022-09-09_21-52-38_UTC_2.jpg artsy/2022-09-09_21-52-38_UTC_3.jpg [Silverlens (@silverlensgaller…] json \n",
      "artsy/2022-09-09_19-25-22_UTC_1.jpg artsy/2022-09-09_19-25-22_UTC_2.jpg artsy/2022-09-09_19-25-22_UTC_3.jpg [Nicky Nodjoumi’s large-scale …] json \n",
      "artsy/2022-09-09_19-15-22_UTC_1.jpg artsy/2022-09-09_19-15-22_UTC_2.jpg artsy/2022-09-09_19-15-22_UTC_3.jpg [Just refreshed: Trove. The be…] json \n",
      "artsy/2022-09-09_15-30-33_UTC.jpg [#CarisReid, Trance, 2022 👁• A…] json \n",
      "artsy/2022-09-08_19-06-59_UTC_1.jpg artsy/2022-09-08_19-06-59_UTC_2.jpg artsy/2022-09-08_19-06-59_UTC_3.jpg artsy/2022-09-08_19-06-59_UTC_4.jpg artsy/2022-09-08_19-06-59_UTC_5.jpg [The Armory Show (@thearmorysh…] json \n",
      "artsy/2022-09-08_18-40-18_UTC_1.jpg artsy/2022-09-08_18-40-18_UTC_2.jpg artsy/2022-09-08_18-40-18_UTC_3.jpg [As part of The Armory Show, J…] json \n",
      "artsy/2022-09-08_14-30-40_UTC_1.jpg artsy/2022-09-08_14-30-40_UTC_2.jpg artsy/2022-09-08_14-30-40_UTC_3.jpg artsy/2022-09-08_14-30-40_UTC_4.jpg artsy/2022-09-08_14-30-40_UTC_5.jpg artsy/2022-09-08_14-30-40_UTC_6.jpg [The inaugural edition of Frie…] json \n",
      "artsy/2022-09-08_05-55-13_UTC.jpg [#MatthewLutzKinoy, Exceptiona…] json \n",
      "artsy/2022-09-07_23-45-14_UTC_1.jpg artsy/2022-09-07_23-45-14_UTC_2.jpg artsy/2022-09-07_23-45-14_UTC_3.jpg [While Seoul is lauded as the …] json \n",
      "artsy/2022-09-07_19-30-29_UTC_1.jpg artsy/2022-09-07_19-30-29_UTC_2.jpg artsy/2022-09-07_19-30-29_UTC_3.jpg artsy/2022-09-07_19-30-29_UTC_4.jpg artsy/2022-09-07_19-30-29_UTC_5.jpg [Meet the artists on our radar…] json \n",
      "artsy/2022-09-07_14-20-23_UTC_1.jpg artsy/2022-09-07_14-20-23_UTC_2.jpg artsy/2022-09-07_14-20-23_UTC_3.jpg artsy/2022-09-07_14-20-23_UTC_4.jpg artsy/2022-09-07_14-20-23_UTC_5.jpg artsy/2022-09-07_14-20-23_UTC_6.jpg [Over the past two years, Seou…] json \n",
      "artsy/2022-09-07_05-50-15_UTC.jpg [#YenFuKuo, Triple Jump, 2022 …] json \n",
      "artsy/2022-09-07_02-25-18_UTC_1.jpg artsy/2022-09-07_02-25-18_UTC_2.jpg artsy/2022-09-07_02-25-18_UTC_3.jpg artsy/2022-09-07_02-25-18_UTC_4.jpg artsy/2022-09-07_02-25-18_UTC_5.jpg [We all remember the heartache…] json \n",
      "artsy/2022-09-06_23-35-16_UTC_1.jpg artsy/2022-09-06_23-35-16_UTC_2.jpg artsy/2022-09-06_23-35-16_UTC_3.jpg artsy/2022-09-06_23-35-16_UTC_4.jpg artsy/2022-09-06_23-35-16_UTC_5.jpg [Art on Paper (@artmarketprodu…] json \n",
      "artsy/2022-09-06_20-45-26_UTC_1.jpg artsy/2022-09-06_20-45-26_UTC_2.jpg artsy/2022-09-06_20-45-26_UTC_3.jpg artsy/2022-09-06_20-45-26_UTC_4.jpg artsy/2022-09-06_20-45-26_UTC_5.jpg [Swipe to explore what's hot a…] json \n",
      "artsy/2022-09-06_17-05-25_UTC_1.jpg artsy/2022-09-06_17-05-25_UTC_2.jpg artsy/2022-09-06_17-05-25_UTC_3.jpg [Taking a particular interest …] json \n",
      "artsy/2022-09-06_06-00-46_UTC.jpg [#MattiaBonetti, Sofa 'Cut Out…] json \n",
      "artsy/2022-09-06_03-55-45_UTC_1.jpg artsy/2022-09-06_03-55-45_UTC_2.jpg artsy/2022-09-06_03-55-45_UTC_3.jpg artsy/2022-09-06_03-55-45_UTC_4.jpg artsy/2022-09-06_03-55-45_UTC_5.jpg [Through conceptual art, artis…] json \n",
      "artsy/2022-09-05_14-25-25_UTC_1.jpg artsy/2022-09-05_14-25-25_UTC_2.jpg [Riffing on consumer culture a…] json \n",
      "artsy/2022-09-05_05-40-13_UTC.jpg [#AdamLucasHimebauch, House on…] json \n",
      "artsy/2022-09-05_00-05-23_UTC_1.jpg artsy/2022-09-05_00-05-23_UTC_2.jpg artsy/2022-09-05_00-05-23_UTC_3.jpg [Nanan Kang’s latest show at S…] json \n",
      "artsy/2022-09-04_20-25-20_UTC_1.jpg artsy/2022-09-04_20-25-20_UTC_2.jpg artsy/2022-09-04_20-25-20_UTC_3.jpg artsy/2022-09-04_20-25-20_UTC_4.jpg artsy/2022-09-04_20-25-20_UTC_5.jpg [Spiritual abstractions—lush, …] json \n",
      "artsy/2022-09-04_14-10-18_UTC_1.jpg artsy/2022-09-04_14-10-18_UTC_2.jpg artsy/2022-09-04_14-10-18_UTC_3.jpg [Jean-Michel Basquiat’s dramat…] json \n",
      "artsy/2022-09-04_06-35-18_UTC.jpg [#DavidRisley, Einer's Dream, …] json \n",
      "artsy/2022-09-03_20-00-48_UTC_1.jpg artsy/2022-09-03_20-00-48_UTC_2.jpg artsy/2022-09-03_20-00-48_UTC_3.jpg artsy/2022-09-03_20-00-48_UTC_4.jpg artsy/2022-09-03_20-00-48_UTC_5.jpg [Swipe to see the artworks tha…] json \n",
      "artsy/2022-09-03_14-20-34_UTC_1.jpg artsy/2022-09-03_14-20-34_UTC_2.jpg artsy/2022-09-03_14-20-34_UTC_3.jpg [Sometimes cheerful, sometimes…] json \n",
      "artsy/2022-09-03_06-25-18_UTC.jpg [#WalterRobinson, The Pit, 202…] json \n",
      "[In Ulala Imai’s latest show a…] json \n",
      "artsy/2022-09-02_23-40-10_UTC_1.jpg artsy/2022-09-02_23-40-10_UTC_2.jpg artsy/2022-09-02_23-40-10_UTC_3.jpg [Just refreshed: Trove. The be…] json \n",
      "artsy/2022-09-02_14-35-19_UTC_1.jpg artsy/2022-09-02_14-35-19_UTC_2.jpg artsy/2022-09-02_14-35-19_UTC_3.jpg [Raymond Pettibon emerged from…] json \n",
      "artsy/2022-09-02_06-20-18_UTC.jpg [#RoxyPeroxyde, Waiting for Go…] json \n",
      "artsy/2022-09-01_18-05-22_UTC_1.jpg artsy/2022-09-01_18-05-22_UTC_2.jpg artsy/2022-09-01_18-05-22_UTC_3.jpg [Maria Klabin’s latest show at…] json \n",
      "artsy/2022-09-01_14-15-18_UTC_1.jpg artsy/2022-09-01_14-15-18_UTC_2.jpg [GaHee Park’s surreal painting…] json \n",
      "artsy/2022-09-01_06-15-21_UTC.jpg [#KrzysztofStrzelecki, Lily, 2…] json \n",
      "artsy/2022-08-31_18-20-22_UTC_1.jpg artsy/2022-08-31_18-20-22_UTC_2.jpg [Anouk Lamm Anouk can often be…] json \n",
      "artsy/2022-08-31_14-30-33_UTC_1.jpg artsy/2022-08-31_14-30-33_UTC_2.jpg artsy/2022-08-31_14-30-33_UTC_3.jpg [Tracey Emin’s poetic, confess…] json \n",
      "artsy/2022-08-31_06-35-15_UTC.jpg [#MalinGabriellaNordin, Okända…] json \n",
      "artsy/2022-08-30_23-10-24_UTC_1.jpg artsy/2022-08-30_23-10-24_UTC_2.jpg artsy/2022-08-30_23-10-24_UTC_3.jpg artsy/2022-08-30_23-10-24_UTC_4.jpg artsy/2022-08-30_23-10-24_UTC_5.jpg artsy/2022-08-30_23-10-24_UTC_6.jpg [David Montalba, the leader of…] json \n",
      "artsy/2022-08-30_19-35-19_UTC_1.jpg artsy/2022-08-30_19-35-19_UTC_2.jpg artsy/2022-08-30_19-35-19_UTC_3.jpg artsy/2022-08-30_19-35-19_UTC_4.jpg artsy/2022-08-30_19-35-19_UTC_5.jpg [Swipe to explore what's hot a…] json \n",
      "artsy/2022-08-30_14-25-19_UTC_1.jpg artsy/2022-08-30_14-25-19_UTC_2.jpg artsy/2022-08-30_14-25-19_UTC_3.jpg [Deliberately disregarding the…] json \n",
      "artsy/2022-08-30_06-25-13_UTC.jpg [#DanOliver, Summer Home, 2022…] json \n",
      "artsy/2022-08-29_20-10-25_UTC_1.jpg artsy/2022-08-29_20-10-25_UTC_2.jpg artsy/2022-08-29_20-10-25_UTC_3.jpg artsy/2022-08-29_20-10-25_UTC_4.jpg [Heenang heesoo Kim’s morbid, …] json \n",
      "artsy/2022-08-29_14-10-19_UTC_1.jpg artsy/2022-08-29_14-10-19_UTC_2.jpg artsy/2022-08-29_14-10-19_UTC_3.jpg [The psychological description…] json \n",
      "artsy/2022-08-29_06-45-21_UTC.jpg [#JessicaTaylorBellamy, Absolu…] json \n",
      "artsy/2022-08-28_20-15-20_UTC_1.jpg artsy/2022-08-28_20-15-20_UTC_2.jpg artsy/2022-08-28_20-15-20_UTC_3.jpg artsy/2022-08-28_20-15-20_UTC_4.jpg [Twenty years ago, on a whitew…] json \n",
      "artsy/2022-08-28_14-01-14_UTC_1.jpg artsy/2022-08-28_14-01-14_UTC_2.jpg artsy/2022-08-28_14-01-14_UTC_3.jpg [Petra Cortright uses a range …] json \n",
      "artsy/2022-08-28_06-40-17_UTC.jpg [#PaulVerdell, In a Field, 202…] json \n",
      "artsy/2022-08-27_20-05-22_UTC_1.jpg artsy/2022-08-27_20-05-22_UTC_2.jpg artsy/2022-08-27_20-05-22_UTC_3.jpg artsy/2022-08-27_20-05-22_UTC_4.jpg artsy/2022-08-27_20-05-22_UTC_5.jpg [Swipe to see the artworks tha…] json \n",
      "artsy/2022-08-27_16-02-35_UTC_1.jpg artsy/2022-08-27_16-02-35_UTC_2.jpg artsy/2022-08-27_16-02-35_UTC_3.jpg artsy/2022-08-27_16-02-35_UTC_4.jpg artsy/2022-08-27_16-02-35_UTC_5.jpg artsy/2022-08-27_16-02-35_UTC_6.jpg artsy/2022-08-27_16-02-35_UTC_7.jpg artsy/2022-08-27_16-02-35_UTC_8.jpg artsy/2022-08-27_16-02-35_UTC_9.jpg artsy/2022-08-27_16-02-35_UTC_10.jpg [Curated by New York-based gal…] json \n",
      "artsy/2022-08-27_12-30-20_UTC_1.jpg artsy/2022-08-27_12-30-20_UTC_2.jpg artsy/2022-08-27_12-30-20_UTC_3.jpg [Tao Siqi’s practice of painti…] json \n",
      "artsy/2022-08-27_06-10-19_UTC.jpg [#JuHyeonLee, Surf, 2021 🌊• Av…] json \n",
      "artsy/2022-08-26_22-35-22_UTC_1.jpg artsy/2022-08-26_22-35-22_UTC_2.jpg artsy/2022-08-26_22-35-22_UTC_3.jpg artsy/2022-08-26_22-35-22_UTC_4.jpg artsy/2022-08-26_22-35-22_UTC_5.jpg [Delhi Art Week (@delhiartweek…] json \n",
      "artsy/2022-08-26_18-20-21_UTC_1.jpg artsy/2022-08-26_18-20-21_UTC_2.jpg [In Lien Truong’s latest show …] json \n",
      "artsy/2022-08-26_14-45-24_UTC_1.jpg artsy/2022-08-26_14-45-24_UTC_2.jpg artsy/2022-08-26_14-45-24_UTC_3.jpg [Just refreshed: Trove. The be…] json \n",
      "artsy/2022-08-26_06-30-18_UTC.jpg [#RoyLichtenstein, Crying Girl…] json \n",
      "artsy/2022-08-25_18-02-12_UTC.jpg [🎵 Artsy Mixtape 028 just drop…] json \n",
      "artsy/2022-08-25_14-25-26_UTC_1.jpg artsy/2022-08-25_14-25-26_UTC_2.jpg artsy/2022-08-25_14-25-26_UTC_3.jpg [Since the 1960s, Washington C…] json \n",
      "artsy/2022-08-25_06-25-13_UTC.jpg [#CharlesBlackman, Through the…] json \n",
      "artsy/2022-08-24_22-20-18_UTC_1.jpg artsy/2022-08-24_22-20-18_UTC_2.jpg artsy/2022-08-24_22-20-18_UTC_3.jpg [Auctions, whether online or i…] json \n",
      "artsy/2022-08-24_18-50-26_UTC_1.jpg artsy/2022-08-24_18-50-26_UTC_2.jpg artsy/2022-08-24_18-50-26_UTC_3.jpg artsy/2022-08-24_18-50-26_UTC_4.jpg [The latest show at HOFA Galle…] json \n",
      "artsy/2022-08-24_16-03-02_UTC_1.jpg artsy/2022-08-24_16-03-02_UTC_2.jpg artsy/2022-08-24_16-03-02_UTC_3.jpg [An electric color palette sat…] json \n",
      "artsy/2022-08-24_06-15-17_UTC.jpg [#AnicoMostert, Calm Before th…] json \n",
      "artsy/2022-08-24_01-45-19_UTC_1.jpg artsy/2022-08-24_01-45-19_UTC_2.jpg artsy/2022-08-24_01-45-19_UTC_3.jpg artsy/2022-08-24_01-45-19_UTC_4.jpg [As the person who facilitated…] json \n",
      "artsy/2022-08-23_22-20-22_UTC_1.jpg artsy/2022-08-23_22-20-22_UTC_2.jpg artsy/2022-08-23_22-20-22_UTC_3.jpg artsy/2022-08-23_22-20-22_UTC_4.jpg [Chart Art Fair (@chart_artfai…] json \n",
      "artsy/2022-08-23_18-30-32_UTC_1.jpg artsy/2022-08-23_18-30-32_UTC_2.jpg artsy/2022-08-23_18-30-32_UTC_3.jpg artsy/2022-08-23_18-30-32_UTC_4.jpg artsy/2022-08-23_18-30-32_UTC_5.jpg [Swipe to explore what's hot a…] json \n",
      "artsy/2022-08-23_14-15-19_UTC_1.jpg artsy/2022-08-23_14-15-19_UTC_2.jpg artsy/2022-08-23_14-15-19_UTC_3.jpg [Sigrid von Lintig is best kno…] json \n",
      "artsy/2022-08-23_06-25-13_UTC.jpg [#KatieDorame, Zahn As Mathias…] json \n",
      "artsy/2022-08-22_18-20-19_UTC_1.jpg artsy/2022-08-22_18-20-19_UTC_2.jpg artsy/2022-08-22_18-20-19_UTC_3.jpg [Painter Cecily Brown works at…] json \n",
      "artsy/2022-08-22_06-10-15_UTC.jpg [#StefanZsaitsits, Snakes and …] json \n",
      "artsy/2022-08-21_21-51-50_UTC_1.jpg artsy/2022-08-21_21-51-50_UTC_2.jpg artsy/2022-08-21_21-51-50_UTC_3.jpg artsy/2022-08-21_21-51-50_UTC_4.jpg artsy/2022-08-21_21-51-50_UTC_5.jpg artsy/2022-08-21_21-51-50_UTC_6.jpg artsy/2022-08-21_21-51-50_UTC_7.jpg artsy/2022-08-21_21-51-50_UTC_8.jpg artsy/2022-08-21_21-51-50_UTC_9.jpg artsy/2022-08-21_21-51-50_UTC_10.jpg [After two years of interrupte…] json \n",
      "artsy/2022-08-21_14-15-16_UTC_1.jpg artsy/2022-08-21_14-15-16_UTC_2.jpg artsy/2022-08-21_14-15-16_UTC_3.jpg [Amoako Boafo’s luminous portr…] json \n",
      "artsy/2022-08-21_06-30-19_UTC.jpg [#AliFutrell, I Can’t Hear You…] json \n",
      "artsy/2022-08-20_19-10-29_UTC_1.jpg artsy/2022-08-20_19-10-29_UTC_2.jpg artsy/2022-08-20_19-10-29_UTC_3.jpg artsy/2022-08-20_19-10-29_UTC_4.jpg artsy/2022-08-20_19-10-29_UTC_5.jpg [Swipe to see the artworks tha…] json \n",
      "artsy/2022-08-20_14-15-24_UTC_1.jpg artsy/2022-08-20_14-15-24_UTC_2.jpg artsy/2022-08-20_14-15-24_UTC_3.jpg [Tomo Campbell’s expressive la…] json \n",
      "artsy/2022-08-20_06-15-13_UTC.jpg [#RobynLitchfield, Lake Brunne…] json \n",
      "artsy/2022-08-20_03-25-20_UTC_1.jpg artsy/2022-08-20_03-25-20_UTC_2.jpg artsy/2022-08-20_03-25-20_UTC_3.jpg [For many years, native New Yo…] json \n",
      "artsy/2022-08-19_23-35-17_UTC_1.jpg artsy/2022-08-19_23-35-17_UTC_2.jpg artsy/2022-08-19_23-35-17_UTC_3.jpg [Just refreshed: Trove. The be…] json \n",
      "artsy/2022-08-19_18-57-16_UTC_1.jpg artsy/2022-08-19_18-57-16_UTC_2.jpg artsy/2022-08-19_18-57-16_UTC_3.jpg artsy/2022-08-19_18-57-16_UTC_4.jpg artsy/2022-08-19_18-57-16_UTC_5.jpg [Our latest collaboration with…] json \n",
      "artsy/2022-08-19_14-35-17_UTC_1.jpg artsy/2022-08-19_14-35-17_UTC_2.jpg artsy/2022-08-19_14-35-17_UTC_3.jpg [The subjects of Shirley Villa…] json \n",
      "artsy/2022-08-19_06-25-15_UTC.jpg [#EileenCooper, Hug, 2021 🤗• A…] json \n",
      "artsy/2022-08-18_21-40-27_UTC_1.jpg artsy/2022-08-18_21-40-27_UTC_2.jpg artsy/2022-08-18_21-40-27_UTC_3.jpg artsy/2022-08-18_21-40-27_UTC_4.jpg artsy/2022-08-18_21-40-27_UTC_5.jpg artsy/2022-08-18_21-40-27_UTC_6.jpg [Art galleries can be intimida…] json \n",
      "[The masterful abstraction of …] json \n",
      "artsy/2022-08-18_14-30-30_UTC_1.jpg artsy/2022-08-18_14-30-30_UTC_2.jpg artsy/2022-08-18_14-30-30_UTC_3.jpg [Makikio Kudo’s works are base…] json \n",
      "artsy/2022-08-18_06-30-18_UTC.jpg [#JosephKameen, Glow, 2021 💡• …] json \n",
      "artsy/2022-08-17_17-45-24_UTC_1.jpg artsy/2022-08-17_17-45-24_UTC_2.jpg artsy/2022-08-17_17-45-24_UTC_3.jpg [In her imaginative large-scal…] json \n",
      "artsy/2022-08-17_06-10-24_UTC.jpg [#LoribelleSpirovski, Alone To…] json \n",
      "artsy/2022-08-16_18-30-32_UTC_1.jpg artsy/2022-08-16_18-30-32_UTC_2.jpg artsy/2022-08-16_18-30-32_UTC_3.jpg artsy/2022-08-16_18-30-32_UTC_4.jpg artsy/2022-08-16_18-30-32_UTC_5.jpg [Swipe to explore what's hot a…] json \n",
      "artsy/2022-08-16_14-15-19_UTC_1.jpg artsy/2022-08-16_14-15-19_UTC_2.jpg artsy/2022-08-16_14-15-19_UTC_3.jpg [Arghavan Khosravi weaves Pers…] json \n",
      "artsy/2022-08-16_06-30-21_UTC.jpg [#ArmandoSebastian, Xochimilco…] json \n",
      "artsy/2022-08-15_16-40-21_UTC_1.jpg artsy/2022-08-15_16-40-21_UTC_2.jpg artsy/2022-08-15_16-40-21_UTC_3.jpg [In her own words, the work of…] json \n",
      "artsy/2022-08-15_06-20-16_UTC.jpg [#LeslieKerby, Happy Place, 20…] json \n",
      "artsy/2022-08-14_20-55-21_UTC_1.jpg artsy/2022-08-14_20-55-21_UTC_2.jpg artsy/2022-08-14_20-55-21_UTC_3.jpg [Beginning your art collecting…] json \n",
      "artsy/2022-08-14_14-10-15_UTC_1.jpg artsy/2022-08-14_14-10-15_UTC_2.jpg artsy/2022-08-14_14-10-15_UTC_3.jpg [The paintings of Matthew Wong…] json \n",
      "artsy/2022-08-14_06-25-19_UTC.jpg [#MariannaOlague, The Tallest …] json \n",
      "artsy/2022-08-13_22-51-17_UTC_1.jpg artsy/2022-08-13_22-51-17_UTC_2.jpg artsy/2022-08-13_22-51-17_UTC_3.jpg [Artists like Sarah Slappey, A…] json \n",
      "artsy/2022-08-13_17-40-19_UTC_1.jpg artsy/2022-08-13_17-40-19_UTC_2.jpg artsy/2022-08-13_17-40-19_UTC_3.jpg artsy/2022-08-13_17-40-19_UTC_4.jpg artsy/2022-08-13_17-40-19_UTC_5.jpg [Swipe to see the artworks tha…] json \n",
      "artsy/2022-08-13_14-05-16_UTC_1.jpg artsy/2022-08-13_14-05-16_UTC_2.jpg artsy/2022-08-13_14-05-16_UTC_3.jpg [American painter and sculptor…] json \n",
      "artsy/2022-08-13_06-35-16_UTC.jpg [#SevinaTzanou, In the Night, …] json \n",
      "artsy/2022-08-12_20-20-25_UTC_1.jpg artsy/2022-08-12_20-20-25_UTC_2.jpg artsy/2022-08-12_20-20-25_UTC_3.jpg artsy/2022-08-12_20-20-25_UTC_4.jpg artsy/2022-08-12_20-20-25_UTC_5.jpg artsy/2022-08-12_20-20-25_UTC_6.jpg artsy/2022-08-12_20-20-25_UTC_7.jpg artsy/2022-08-12_20-20-25_UTC_8.jpg artsy/2022-08-12_20-20-25_UTC_9.jpg [It’s often difficult for youn…] json \n",
      "artsy/2022-08-12_14-05-15_UTC_1.jpg artsy/2022-08-12_14-05-15_UTC_2.jpg artsy/2022-08-12_14-05-15_UTC_3.jpg [Faye Wei Wei’s poetic paintin…] json \n",
      "artsy/2022-08-12_06-40-14_UTC.jpg [#VeraIliatova, Major in a Min…] json \n",
      "artsy/2022-08-11_22-10-15_UTC_1.jpg artsy/2022-08-11_22-10-15_UTC_2.jpg artsy/2022-08-11_22-10-15_UTC_3.jpg artsy/2022-08-11_22-10-15_UTC_4.jpg [Many galleries continue the t…] json \n",
      "artsy/2022-08-11_17-57-13_UTC.jpg [🎵 Artsy Mixtape 027 just drop…] json \n",
      "artsy/2022-08-11_14-10-16_UTC_1.jpg artsy/2022-08-11_14-10-16_UTC_2.jpg [Obsessed with celebrity, cons…] json \n",
      "artsy/2022-08-11_06-35-14_UTC.jpg [#SaloméWu, Hands I — The Love…] json \n",
      "artsy/2022-08-11_02-10-17_UTC_1.jpg artsy/2022-08-11_02-10-17_UTC_2.jpg artsy/2022-08-11_02-10-17_UTC_3.jpg [Szabolcs Bozó's strong perfor…] json \n",
      "[“Vibrant Matters” at Jeffrey …] json \n",
      "artsy/2022-08-10_14-10-17_UTC_1.jpg artsy/2022-08-10_14-10-17_UTC_2.jpg artsy/2022-08-10_14-10-17_UTC_3.jpg [Drawing inspiration from film…] json \n",
      "artsy/2022-08-10_06-25-12_UTC.jpg [#JuanArangoPalacios, Piernas …] json \n",
      "artsy/2022-08-09_22-10-18_UTC_1.jpg artsy/2022-08-09_22-10-18_UTC_2.jpg artsy/2022-08-09_22-10-18_UTC_3.jpg artsy/2022-08-09_22-10-18_UTC_4.jpg artsy/2022-08-09_22-10-18_UTC_5.jpg [Managing your online presence…] json \n",
      "artsy/2022-08-09_18-30-23_UTC_1.jpg artsy/2022-08-09_18-30-23_UTC_2.jpg artsy/2022-08-09_18-30-23_UTC_3.jpg artsy/2022-08-09_18-30-23_UTC_4.jpg artsy/2022-08-09_18-30-23_UTC_5.jpg [Swipe to explore what's hot a…] json \n",
      "artsy/2022-08-09_14-01-51_UTC_1.jpg artsy/2022-08-09_14-01-51_UTC_2.jpg artsy/2022-08-09_14-01-51_UTC_3.jpg [Andrew Holmquist draws from p…] json \n",
      "artsy/2022-08-09_06-35-10_UTC.jpg [#StuartSnoddy, A Parting Glan…] json \n",
      "artsy/2022-08-08_18-25-41_UTC_1.jpg artsy/2022-08-08_18-25-41_UTC_2.jpg artsy/2022-08-08_18-25-41_UTC_3.jpg [The daughter of artists Milto…] json \n",
      "artsy/2022-08-08_06-30-16_UTC.jpg [#BridgetMullen, Abstraction I…] json \n",
      "artsy/2022-08-07_22-10-15_UTC_1.jpg artsy/2022-08-07_22-10-15_UTC_2.jpg [Artsy contributing writer Mie…] json \n",
      "artsy/2022-08-07_22-10-15_UTC_1.jpg exists artsy/2022-08-07_22-10-15_UTC_2.jpg exists [Artsy contributing writer Mie…] unchanged json \n",
      "artsy/2022-08-07_17-40-28_UTC_1.jpg artsy/2022-08-07_17-40-28_UTC_2.jpg artsy/2022-08-07_17-40-28_UTC_3.jpg artsy/2022-08-07_17-40-28_UTC_4.jpg artsy/2022-08-07_17-40-28_UTC_5.jpg [The expectation that great ar…] json \n",
      "artsy/2022-08-07_13-35-13_UTC_1.jpg artsy/2022-08-07_13-35-13_UTC_2.jpg artsy/2022-08-07_13-35-13_UTC_3.jpg [Woody De Othello’s surreal cl…] json \n",
      "artsy/2022-08-07_06-35-18_UTC.jpg [#AlexKatz, Blue Umbrella 2, 2…] json \n",
      "artsy/2022-08-06_22-35-13_UTC_1.jpg artsy/2022-08-06_22-35-13_UTC_2.jpg artsy/2022-08-06_22-35-13_UTC_3.jpg artsy/2022-08-06_22-35-13_UTC_4.jpg artsy/2022-08-06_22-35-13_UTC_5.jpg [An ice cream shop appears at …] json \n",
      "artsy/2022-08-06_19-10-22_UTC_1.jpg artsy/2022-08-06_19-10-22_UTC_2.jpg artsy/2022-08-06_19-10-22_UTC_3.jpg artsy/2022-08-06_19-10-22_UTC_4.jpg artsy/2022-08-06_19-10-22_UTC_5.jpg [Swipe to see the artworks tha…] json \n",
      "artsy/2022-08-06_14-15-22_UTC_1.jpg artsy/2022-08-06_14-15-22_UTC_2.jpg artsy/2022-08-06_14-15-22_UTC_3.jpg [Standing, or resting, at one …] json \n",
      "artsy/2022-08-06_06-35-16_UTC.jpg [#PaulP, Untitled, 2020 💙• Ava…] json \n",
      "artsy/2022-08-06_01-10-17_UTC_1.jpg artsy/2022-08-06_01-10-17_UTC_2.jpg artsy/2022-08-06_01-10-17_UTC_3.jpg artsy/2022-08-06_01-10-17_UTC_4.jpg artsy/2022-08-06_01-10-17_UTC_5.jpg [The phrase “hoop dreams,” pop…] json \n",
      "artsy/2022-08-05_19-53-16_UTC_1.jpg artsy/2022-08-05_19-53-16_UTC_2.jpg artsy/2022-08-05_19-53-16_UTC_3.jpg artsy/2022-08-05_19-53-16_UTC_4.jpg artsy/2022-08-05_19-53-16_UTC_5.jpg [Art Market Hamptons (@artmark…] json \n",
      "artsy/2022-08-05_18-20-16_UTC_1.jpg artsy/2022-08-05_18-20-16_UTC_2.jpg artsy/2022-08-05_18-20-16_UTC_3.jpg [Just refreshed: Trove. The be…] json \n",
      "artsy/2022-08-05_14-40-37_UTC_1.jpg artsy/2022-08-05_14-40-37_UTC_2.jpg artsy/2022-08-05_14-40-37_UTC_3.jpg [New York and Warsaw–based art…] json \n",
      "artsy/2022-08-05_06-30-20_UTC.jpg [#ArmaniHoward, Through The Gr…] json \n",
      "artsy/2022-08-04_21-45-19_UTC_1.jpg artsy/2022-08-04_21-45-19_UTC_2.jpg artsy/2022-08-04_21-45-19_UTC_3.jpg artsy/2022-08-04_21-45-19_UTC_4.jpg artsy/2022-08-04_21-45-19_UTC_5.jpg [Meet the artists on our radar…] json \n",
      "artsy/2022-08-04_17-02-13_UTC_1.jpg artsy/2022-08-04_17-02-13_UTC_2.jpg artsy/2022-08-04_17-02-13_UTC_3.jpg artsy/2022-08-04_17-02-13_UTC_4.jpg artsy/2022-08-04_17-02-13_UTC_5.jpg [🏀 Just dropped: \"Hoop Dreams”…] json \n",
      "artsy/2022-08-04_06-25-22_UTC.jpg [#AnastasiaSamoylova, Pool aft…] json \n",
      "[The latest show at Sean Kelly…] json \n",
      "artsy/2022-08-03_16-10-19_UTC_1.jpg artsy/2022-08-03_16-10-19_UTC_2.jpg artsy/2022-08-03_16-10-19_UTC_3.jpg [Richard Bosman is a Neo-Expre…] json \n",
      "artsy/2022-08-03_07-05-17_UTC.jpg [#SarahThibault, Reading the S…] json \n",
      "artsy/2022-08-02_20-35-24_UTC_1.jpg artsy/2022-08-02_20-35-24_UTC_2.jpg artsy/2022-08-02_20-35-24_UTC_3.jpg artsy/2022-08-02_20-35-24_UTC_4.jpg artsy/2022-08-02_20-35-24_UTC_5.jpg [Swipe to explore what's hot a…] json \n",
      "artsy/2022-08-02_14-10-49_UTC_1.jpg artsy/2022-08-02_14-10-49_UTC_2.jpg artsy/2022-08-02_14-10-49_UTC_3.jpg [The carnivalesque images of C…] json \n",
      "artsy/2022-08-02_06-40-14_UTC.jpg [#LauraBerger, Moonflowers, 20…] json \n",
      "artsy/2022-08-02_00-30-17_UTC_1.jpg artsy/2022-08-02_00-30-17_UTC_2.jpg artsy/2022-08-02_00-30-17_UTC_3.jpg [Several cities leap to mind w…] json \n",
      "artsy/2022-08-01_21-25-19_UTC.jpg [The Federal Bureau of Investi…] json \n",
      "artsy/2022-08-01_17-25-21_UTC_1.jpg artsy/2022-08-01_17-25-21_UTC_2.jpg artsy/2022-08-01_17-25-21_UTC_3.jpg [America Martin's paintings, w…] json \n",
      "artsy/2022-08-01_06-45-20_UTC.jpg [#NickJensen, Frances & Edie, …] json \n",
      "artsy/2022-07-31_19-30-26_UTC_1.jpg artsy/2022-07-31_19-30-26_UTC_2.jpg artsy/2022-07-31_19-30-26_UTC_3.jpg artsy/2022-07-31_19-30-26_UTC_4.jpg [Intersect Aspen (@intersectar…] json \n",
      "artsy/2022-07-31_13-45-17_UTC_1.jpg artsy/2022-07-31_13-45-17_UTC_2.jpg artsy/2022-07-31_13-45-17_UTC_3.jpg [Audun Alvestad’s work depicts…] json \n",
      "artsy/2022-07-31_06-35-20_UTC.jpg [#RachelHayden, Weighted Blank…] json \n",
      "artsy/2022-07-30_23-35-22_UTC_1.jpg artsy/2022-07-30_23-35-22_UTC_2.jpg [Multidisciplinary artist Derr…] json \n",
      "artsy/2022-07-30_18-05-24_UTC_1.jpg artsy/2022-07-30_18-05-24_UTC_2.jpg artsy/2022-07-30_18-05-24_UTC_3.jpg artsy/2022-07-30_18-05-24_UTC_4.jpg artsy/2022-07-30_18-05-24_UTC_5.jpg [Swipe to see the artworks tha…] json \n",
      "artsy/2022-07-30_12-25-19_UTC_1.jpg artsy/2022-07-30_12-25-19_UTC_2.jpg artsy/2022-07-30_12-25-19_UTC_3.jpg [Salvo was an Italian modernis…] json \n",
      "artsy/2022-07-30_06-25-18_UTC.jpg [#NicholasNorris, Woodstock Tw…] json \n",
      "artsy/2022-07-29_18-40-17_UTC_1.jpg artsy/2022-07-29_18-40-17_UTC_2.jpg artsy/2022-07-29_18-40-17_UTC_3.jpg [Just refreshed: Trove. The be…] json \n",
      "artsy/2022-07-29_16-02-35_UTC_1.jpg artsy/2022-07-29_16-02-35_UTC_2.jpg artsy/2022-07-29_16-02-35_UTC_3.jpg artsy/2022-07-29_16-02-35_UTC_4.jpg artsy/2022-07-29_16-02-35_UTC_5.jpg artsy/2022-07-29_16-02-35_UTC_6.jpg artsy/2022-07-29_16-02-35_UTC_7.jpg artsy/2022-07-29_16-02-35_UTC_8.jpg [Curated by Brooke Wise (@wise…] json \n",
      "artsy/2022-07-29_12-25-21_UTC_1.jpg artsy/2022-07-29_12-25-21_UTC_2.jpg artsy/2022-07-29_12-25-21_UTC_3.jpg [Jonathan Gardner’s highly sty…] json \n",
      "artsy/2022-07-29_06-45-17_UTC.jpg [#MarleneSteyn, Below Tide Be …] json \n",
      "artsy/2022-07-29_00-10-17_UTC_1.jpg artsy/2022-07-29_00-10-17_UTC_2.jpg artsy/2022-07-29_00-10-17_UTC_3.jpg [Joel Meyerowitz helped popula…] json \n",
      "artsy/2022-07-28_21-01-13_UTC.jpg [🎵 Artsy Mixtape 026 just drop…] json \n",
      "artsy/2022-07-28_18-25-20_UTC_1.jpg artsy/2022-07-28_18-25-20_UTC_2.jpg artsy/2022-07-28_18-25-20_UTC_3.jpg [Clare Rojas, who is now 45 (a…] json \n",
      "[Breakfast at Tiffany & Co. to…] json \n",
      "artsy/2022-07-28_12-35-24_UTC_1.jpg artsy/2022-07-28_12-35-24_UTC_2.jpg artsy/2022-07-28_12-35-24_UTC_3.jpg [Two lots by the late Hugh Ste…] json \n",
      "artsy/2022-07-28_06-05-19_UTC.jpg [#SholtoBlissett, Garden of Hu…] json \n",
      "artsy/2022-07-28_00-45-24_UTC_1.jpg artsy/2022-07-28_00-45-24_UTC_2.jpg artsy/2022-07-28_00-45-24_UTC_3.jpg artsy/2022-07-28_00-45-24_UTC_4.jpg [Edin Zenun’s latest show at B…] json \n",
      "artsy/2022-07-27_21-10-15_UTC_1.jpg artsy/2022-07-27_21-10-15_UTC_2.jpg artsy/2022-07-27_21-10-15_UTC_3.jpg [Thomas Ruff’s photography emb…] json \n",
      "artsy/2022-07-27_17-45-59_UTC_1.jpg artsy/2022-07-27_17-45-59_UTC_2.jpg artsy/2022-07-27_17-45-59_UTC_3.jpg artsy/2022-07-27_17-45-59_UTC_4.jpg artsy/2022-07-27_17-45-59_UTC_5.jpg [📍Our latest collaboration wit…] json \n",
      "artsy/2022-07-27_14-02-15_UTC.jpg [In partnership with Tiffany &…] json \n",
      "artsy/2022-07-27_04-50-11_UTC.jpg [#WangXiyao, The Crystalline M…] json \n",
      "artsy/2022-07-26_22-36-35_UTC_2.jpg artsy/2022-07-26_22-36-35_UTC_3.jpg artsy/2022-07-26_22-36-35_UTC_4.jpg artsy/2022-07-26_22-36-35_UTC_5.jpg artsy/2022-07-26_22-36-35_UTC_6.jpg [Introducing #ArtsyNextInShow,…] json \n",
      "artsy/2022-07-26_21-20-20_UTC_1.jpg artsy/2022-07-26_21-20-20_UTC_2.jpg artsy/2022-07-26_21-20-20_UTC_3.jpg artsy/2022-07-26_21-20-20_UTC_4.jpg artsy/2022-07-26_21-20-20_UTC_5.jpg [Swipe to explore what's hot a…] json \n",
      "artsy/2022-07-26_21-20-20_UTC_1.jpg exists artsy/2022-07-26_21-20-20_UTC_2.jpg exists artsy/2022-07-26_21-20-20_UTC_3.jpg exists artsy/2022-07-26_21-20-20_UTC_4.jpg exists artsy/2022-07-26_21-20-20_UTC_5.jpg exists [Swipe to explore what's hot a…] unchanged json \n",
      "artsy/2022-07-26_18-05-22_UTC_1.jpg artsy/2022-07-26_18-05-22_UTC_2.jpg artsy/2022-07-26_18-05-22_UTC_3.jpg [Lenz Geerk’s figurative paint…] json \n",
      "artsy/2022-07-26_14-05-17_UTC_1.jpg artsy/2022-07-26_14-05-17_UTC_2.jpg artsy/2022-07-26_14-05-17_UTC_3.jpg [Zadie Xa’s works span electri…] json \n",
      "artsy/2022-07-26_06-40-13_UTC.jpg [#SelineBurn, Sugar on the Rim…] json \n",
      "artsy/2022-07-25_22-45-19_UTC.jpg [Having collected NFTs since l…] json \n",
      "artsy/2022-07-25_16-15-26_UTC_1.jpg artsy/2022-07-25_16-15-26_UTC_2.jpg [Kevin Darmanie utilizes photo…] json \n",
      "artsy/2022-07-25_06-40-16_UTC.jpg [#JewelHam, What Was Said?, 20…] json \n",
      "artsy/2022-07-24_14-30-23_UTC_1.jpg artsy/2022-07-24_14-30-23_UTC_2.jpg artsy/2022-07-24_14-30-23_UTC_3.jpg [In his paintings, Rolankay pr…] json \n",
      "artsy/2022-07-24_06-35-14_UTC.jpg [#JoeunKimAatchim, Piggyback R…] json \n",
      "artsy/2022-07-23_20-05-25_UTC_1.jpg artsy/2022-07-23_20-05-25_UTC_2.jpg artsy/2022-07-23_20-05-25_UTC_3.jpg [Claes Oldenburg, who died on …] json \n",
      "artsy/2022-07-23_17-35-18_UTC_1.jpg artsy/2022-07-23_17-35-18_UTC_2.jpg artsy/2022-07-23_17-35-18_UTC_3.jpg artsy/2022-07-23_17-35-18_UTC_4.jpg artsy/2022-07-23_17-35-18_UTC_5.jpg [Swipe to see the artworks tha…] json \n",
      "artsy/2022-07-23_14-30-21_UTC_1.jpg artsy/2022-07-23_14-30-21_UTC_2.jpg artsy/2022-07-23_14-30-21_UTC_3.jpg [Zwelethu Machepha’s layered, …] json \n",
      "artsy/2022-07-23_06-25-25_UTC.jpg [#AlannahFarrell, Serene, Sky,…] json \n",
      "artsy/2022-07-22_22-45-16_UTC.jpg [The internet has helped democ…] json \n",
      "artsy/2022-07-22_17-30-30_UTC_1.jpg artsy/2022-07-22_17-30-30_UTC_2.jpg artsy/2022-07-22_17-30-30_UTC_3.jpg [Just refreshed: Trove. The be…] json \n",
      "artsy/2022-07-22_14-10-25_UTC_1.jpg artsy/2022-07-22_14-10-25_UTC_2.jpg [Working in the style of Indo-…] json \n",
      "artsy/2022-07-22_06-30-22_UTC.jpg [#GenevieveCohn, Harvest, 2022…] json \n",
      "artsy/2022-07-22_00-10-17_UTC_1.jpg artsy/2022-07-22_00-10-17_UTC_2.jpg "
     ]
    },
    {
     "name": "stderr",
     "output_type": "stream",
     "text": [
      "download_pic(): HTTPSConnectionPool(host='scontent-ams4-1.cdninstagram.com', port=443): Read timed out. (read timeout=300.0) [retrying; skip with ^C]\n"
     ]
    },
    {
     "name": "stdout",
     "output_type": "stream",
     "text": [
      "artsy/2022-07-22_00-10-17_UTC_3.jpg artsy/2022-07-22_00-10-17_UTC_4.jpg artsy/2022-07-22_00-10-17_UTC_5.jpg [Twin brothers Sam and Daniel …] json \n",
      "[Nicole Eisenman’s first major…] json \n",
      "artsy/2022-07-21_17-40-22_UTC_1.jpg artsy/2022-07-21_17-40-22_UTC_2.jpg artsy/2022-07-21_17-40-22_UTC_3.jpg [Inka Essenhigh's fluid, dream…] json \n",
      "artsy/2022-07-21_15-25-27_UTC_1.jpg artsy/2022-07-21_15-25-27_UTC_2.jpg artsy/2022-07-21_15-25-27_UTC_3.jpg artsy/2022-07-21_15-25-27_UTC_4.jpg [Turbine Art Fair (@turbineart…] json \n",
      "artsy/2022-07-21_06-20-16_UTC.jpg [#JamesOwens, These Bones of M…] json \n",
      "artsy/2022-07-21_00-45-14_UTC_1.jpg artsy/2022-07-21_00-45-14_UTC_2.jpg artsy/2022-07-21_00-45-14_UTC_3.jpg artsy/2022-07-21_00-45-14_UTC_4.jpg [“I think of her as a kind of …] json \n",
      "artsy/2022-07-20_21-10-18_UTC_1.jpg "
     ]
    },
    {
     "name": "stderr",
     "output_type": "stream",
     "text": [
      "download_pic(): HTTPSConnectionPool(host='scontent-ams2-1.cdninstagram.com', port=443): Read timed out. [retrying; skip with ^C]\n"
     ]
    },
    {
     "name": "stdout",
     "output_type": "stream",
     "text": [
      "artsy/2022-07-20_21-10-18_UTC_1.jpg artsy/2022-07-20_21-10-18_UTC_2.jpg artsy/2022-07-20_21-10-18_UTC_3.jpg [In its latest exhibition, Ber…] json \n",
      "artsy/2022-07-20_16-53-39_UTC_1.jpg artsy/2022-07-20_16-53-39_UTC_2.jpg artsy/2022-07-20_16-53-39_UTC_3.jpg [Julie Curtiss makes unsettlin…] json \n",
      "artsy/2022-07-20_11-20-20_UTC_1.jpg artsy/2022-07-20_11-20-20_UTC_2.jpg artsy/2022-07-20_11-20-20_UTC_3.jpg artsy/2022-07-20_11-20-20_UTC_4.jpg artsy/2022-07-20_11-20-20_UTC_5.jpg [Ella Walker cleverly combines…] json \n",
      "artsy/2022-07-20_06-20-13_UTC.jpg [#KristofSanty, Aardbei, 2022 …] json \n",
      "artsy/2022-07-19_22-50-16_UTC_1.jpg artsy/2022-07-19_22-50-16_UTC_2.jpg [The visionary Surrealist pain…] json \n",
      "artsy/2022-07-19_19-25-18_UTC_1.jpg artsy/2022-07-19_19-25-18_UTC_2.jpg artsy/2022-07-19_19-25-18_UTC_3.jpg artsy/2022-07-19_19-25-18_UTC_4.jpg artsy/2022-07-19_19-25-18_UTC_5.jpg [Swipe to explore what's hot a…] json \n",
      "artsy/2022-07-19_14-30-27_UTC_1.jpg artsy/2022-07-19_14-30-27_UTC_2.jpg "
     ]
    },
    {
     "name": "stderr",
     "output_type": "stream",
     "text": [
      "download_pic(): HTTPSConnectionPool(host='scontent-ams4-1.cdninstagram.com', port=443): Read timed out. (read timeout=300.0) [retrying; skip with ^C]\n"
     ]
    },
    {
     "name": "stdout",
     "output_type": "stream",
     "text": [
      "artsy/2022-07-19_14-30-27_UTC_3.jpg [Hayv Kahraman’s oil-on-linen …] json \n",
      "artsy/2022-07-19_06-30-21_UTC.jpg [#JudithLinhares, Winter Sun, …] json \n",
      "artsy/2022-07-18_21-55-17_UTC_1.jpg artsy/2022-07-18_21-55-17_UTC_2.jpg artsy/2022-07-18_21-55-17_UTC_3.jpg [In vibrant, sorbet-colored la…] json \n",
      "artsy/2022-07-18_16-45-19_UTC_1.jpg artsy/2022-07-18_16-45-19_UTC_2.jpg artsy/2022-07-18_16-45-19_UTC_3.jpg artsy/2022-07-18_16-45-19_UTC_4.jpg [The @worthlessstudios Summer …] json \n",
      "artsy/2022-07-18_06-35-13_UTC.jpg [#AnnaFreemanBentley, Study fo…] json \n",
      "artsy/2022-07-17_14-35-20_UTC_1.jpg artsy/2022-07-17_14-35-20_UTC_2.jpg artsy/2022-07-17_14-35-20_UTC_3.jpg [Zemba Luzamba transforms the …] json \n",
      "artsy/2022-07-17_06-30-17_UTC.jpg [#SebastianHosu, Afternoon I, …] json \n",
      "artsy/2022-07-16_19-35-16_UTC_1.jpg artsy/2022-07-16_19-35-16_UTC_2.jpg artsy/2022-07-16_19-35-16_UTC_3.jpg artsy/2022-07-16_19-35-16_UTC_4.jpg artsy/2022-07-16_19-35-16_UTC_5.jpg [Swipe to see the artworks tha…] json \n",
      "artsy/2022-07-16_14-35-19_UTC_1.jpg artsy/2022-07-16_14-35-19_UTC_2.jpg [The Haas Brothers—twins Simon…] json \n",
      "artsy/2022-07-16_06-30-24_UTC.jpg [#BaynePeterson, Untitled, 202…] json \n",
      "artsy/2022-07-15_20-05-21_UTC_1.jpg artsy/2022-07-15_20-05-21_UTC_2.jpg artsy/2022-07-15_20-05-21_UTC_3.jpg [Just refreshed: Trove. The be…] json \n",
      "[In Alannah Farrell’s latest s…] json \n",
      "artsy/2022-07-15_16-03-16_UTC_1.jpg artsy/2022-07-15_16-03-16_UTC_2.jpg artsy/2022-07-15_16-03-16_UTC_3.jpg artsy/2022-07-15_16-03-16_UTC_4.jpg artsy/2022-07-15_16-03-16_UTC_5.jpg artsy/2022-07-15_16-03-16_UTC_6.jpg [Impact: LA for Choice 2022 is…] json \n",
      "artsy/2022-07-15_14-10-16_UTC_1.jpg artsy/2022-07-15_14-10-16_UTC_2.jpg artsy/2022-07-15_14-10-16_UTC_3.jpg "
     ]
    },
    {
     "name": "stderr",
     "output_type": "stream",
     "text": [
      "download_pic(): HTTPSConnectionPool(host='scontent-ams2-1.cdninstagram.com', port=443): Read timed out. [retrying; skip with ^C]\n"
     ]
    },
    {
     "name": "stdout",
     "output_type": "stream",
     "text": [
      "artsy/2022-07-15_14-10-16_UTC_3.jpg [Spencer Lewis creates freesta…] json \n",
      "artsy/2022-07-15_06-25-11_UTC.jpg [#AmberAndrews, Double Feminin…] json \n",
      "artsy/2022-07-14_18-05-27_UTC.jpg [🎵 Artsy Mixtape 025 just drop…] json \n",
      "artsy/2022-07-14_13-30-27_UTC_1.jpg artsy/2022-07-14_13-30-27_UTC_2.jpg artsy/2022-07-14_13-30-27_UTC_3.jpg [Sophie Vallance Cantor blends…] json \n"
     ]
    },
    {
     "name": "stderr",
     "output_type": "stream",
     "text": [
      "JSON Query to api/v1/media/2881989190582591544/info/: HTTPSConnectionPool(host='i.instagram.com', port=443): Max retries exceeded with url: /api/v1/media/2881989190582591544/info/ (Caused by NewConnectionError('<urllib3.connection.HTTPSConnection object at 0x7fa6c1e75d20>: Failed to establish a new connection: [Errno 8] nodename nor servname provided, or not known')) [retrying; skip with ^C]\n",
      "JSON Query to api/v1/media/2881989190582591544/info/: HTTPSConnectionPool(host='i.instagram.com', port=443): Max retries exceeded with url: /api/v1/media/2881989190582591544/info/ (Caused by NewConnectionError('<urllib3.connection.HTTPSConnection object at 0x7fa6c1e76560>: Failed to establish a new connection: [Errno 8] nodename nor servname provided, or not known')) [retrying; skip with ^C]\n",
      "Unable to fetch high quality image version of <Post Cf-4eY_MOA4>: JSON Query to api/v1/media/2881989190582591544/info/: HTTPSConnectionPool(host='i.instagram.com', port=443): Max retries exceeded with url: /api/v1/media/2881989190582591544/info/ (Caused by NewConnectionError('<urllib3.connection.HTTPSConnection object at 0x7fa6c1e77970>: Failed to establish a new connection: [Errno 8] nodename nor servname provided, or not known'))\n",
      "download_pic(): HTTPSConnectionPool(host='scontent-ams2-1.cdninstagram.com', port=443): Max retries exceeded with url: /v/t51.2885-15/293273522_1422453164889306_1042609851772216868_n.jpg?stp=dst-jpg_e35_s1080x1080&_nc_ht=scontent-ams2-1.cdninstagram.com&_nc_cat=106&_nc_ohc=0eXjxxpjDFAAX-wQU6u&edm=APU89FABAAAA&ccb=7-5&ig_cache_key=Mjg4MTk4OTE5MDU4MjU5MTU0NA%3D%3D.2-ccb7-5&oh=00_AfBrtG7j9eRoqL0XgwMV0mXe-C6cOgo7qx_Xa3rahRC8Fw&oe=636CEBAF&_nc_sid=86f79a (Caused by NewConnectionError('<urllib3.connection.HTTPSConnection object at 0x7fa6c1e75a20>: Failed to establish a new connection: [Errno 8] nodename nor servname provided, or not known')) [retrying; skip with ^C]\n",
      "download_pic(): HTTPSConnectionPool(host='scontent-ams2-1.cdninstagram.com', port=443): Max retries exceeded with url: /v/t51.2885-15/293273522_1422453164889306_1042609851772216868_n.jpg?stp=dst-jpg_e35_s1080x1080&_nc_ht=scontent-ams2-1.cdninstagram.com&_nc_cat=106&_nc_ohc=0eXjxxpjDFAAX-wQU6u&edm=APU89FABAAAA&ccb=7-5&ig_cache_key=Mjg4MTk4OTE5MDU4MjU5MTU0NA%3D%3D.2-ccb7-5&oh=00_AfBrtG7j9eRoqL0XgwMV0mXe-C6cOgo7qx_Xa3rahRC8Fw&oe=636CEBAF&_nc_sid=86f79a (Caused by NewConnectionError('<urllib3.connection.HTTPSConnection object at 0x7fa66860f220>: Failed to establish a new connection: [Errno 8] nodename nor servname provided, or not known')) [retrying; skip with ^C]\n"
     ]
    },
    {
     "ename": "ConnectionException",
     "evalue": "download_pic(): HTTPSConnectionPool(host='scontent-ams2-1.cdninstagram.com', port=443): Max retries exceeded with url: /v/t51.2885-15/293273522_1422453164889306_1042609851772216868_n.jpg?stp=dst-jpg_e35_s1080x1080&_nc_ht=scontent-ams2-1.cdninstagram.com&_nc_cat=106&_nc_ohc=0eXjxxpjDFAAX-wQU6u&edm=APU89FABAAAA&ccb=7-5&ig_cache_key=Mjg4MTk4OTE5MDU4MjU5MTU0NA%3D%3D.2-ccb7-5&oh=00_AfBrtG7j9eRoqL0XgwMV0mXe-C6cOgo7qx_Xa3rahRC8Fw&oe=636CEBAF&_nc_sid=86f79a (Caused by NewConnectionError('<urllib3.connection.HTTPSConnection object at 0x7fa6c1c5b610>: Failed to establish a new connection: [Errno 8] nodename nor servname provided, or not known'))",
     "output_type": "error",
     "traceback": [
      "\u001b[0;31m---------------------------------------------------------------------------\u001b[0m",
      "\u001b[0;31mConnectionException\u001b[0m                       Traceback (most recent call last)",
      "Cell \u001b[0;32mIn [95], line 13\u001b[0m\n\u001b[1;32m     10\u001b[0m posts \u001b[39m=\u001b[39m Profile\u001b[39m.\u001b[39mfrom_username(L\u001b[39m.\u001b[39mcontext, PROFILE)\u001b[39m.\u001b[39mget_posts()\n\u001b[1;32m     12\u001b[0m \u001b[39mfor\u001b[39;00m post \u001b[39min\u001b[39;00m posts:\n\u001b[0;32m---> 13\u001b[0m     L\u001b[39m.\u001b[39;49mdownload_post(post, target\u001b[39m=\u001b[39;49mPROFILE)\n\u001b[1;32m     14\u001b[0m     time\u001b[39m.\u001b[39msleep(\u001b[39m7\u001b[39m)\n",
      "File \u001b[0;32m/opt/anaconda3/envs/airtbot/lib/python3.10/site-packages/instaloader/instaloader.py:738\u001b[0m, in \u001b[0;36mInstaloader.download_post\u001b[0;34m(self, post, target)\u001b[0m\n\u001b[1;32m    734\u001b[0m \u001b[39melif\u001b[39;00m post\u001b[39m.\u001b[39mtypename \u001b[39m==\u001b[39m \u001b[39m'\u001b[39m\u001b[39mGraphImage\u001b[39m\u001b[39m'\u001b[39m:\n\u001b[1;32m    735\u001b[0m     \u001b[39m# Download picture\u001b[39;00m\n\u001b[1;32m    736\u001b[0m     \u001b[39mif\u001b[39;00m \u001b[39mself\u001b[39m\u001b[39m.\u001b[39mdownload_pictures:\n\u001b[1;32m    737\u001b[0m         downloaded \u001b[39m=\u001b[39m (\u001b[39mnot\u001b[39;00m _already_downloaded(filename \u001b[39m+\u001b[39m \u001b[39m\"\u001b[39m\u001b[39m.jpg\u001b[39m\u001b[39m\"\u001b[39m) \u001b[39mand\u001b[39;00m\n\u001b[0;32m--> 738\u001b[0m                       \u001b[39mself\u001b[39;49m\u001b[39m.\u001b[39;49mdownload_pic(filename\u001b[39m=\u001b[39;49mfilename, url\u001b[39m=\u001b[39;49mpost\u001b[39m.\u001b[39;49murl, mtime\u001b[39m=\u001b[39;49mpost\u001b[39m.\u001b[39;49mdate_local))\n\u001b[1;32m    739\u001b[0m \u001b[39melif\u001b[39;00m post\u001b[39m.\u001b[39mtypename \u001b[39m==\u001b[39m \u001b[39m'\u001b[39m\u001b[39mGraphVideo\u001b[39m\u001b[39m'\u001b[39m:\n\u001b[1;32m    740\u001b[0m     \u001b[39m# Download video thumbnail (--no-pictures implies --no-video-thumbnails)\u001b[39;00m\n\u001b[1;32m    741\u001b[0m     \u001b[39mif\u001b[39;00m \u001b[39mself\u001b[39m\u001b[39m.\u001b[39mdownload_pictures \u001b[39mand\u001b[39;00m \u001b[39mself\u001b[39m\u001b[39m.\u001b[39mdownload_video_thumbnails:\n",
      "File \u001b[0;32m/opt/anaconda3/envs/airtbot/lib/python3.10/site-packages/instaloader/instaloader.py:109\u001b[0m, in \u001b[0;36m_retry_on_connection_error.<locals>.call\u001b[0;34m(instaloader, *args, **kwargs)\u001b[0m\n\u001b[1;32m    107\u001b[0m         kwargs[\u001b[39m'\u001b[39m\u001b[39m_attempt\u001b[39m\u001b[39m'\u001b[39m] \u001b[39m=\u001b[39m \u001b[39m2\u001b[39m\n\u001b[1;32m    108\u001b[0m     instaloader\u001b[39m.\u001b[39mcontext\u001b[39m.\u001b[39mdo_sleep()\n\u001b[0;32m--> 109\u001b[0m     \u001b[39mreturn\u001b[39;00m call(instaloader, \u001b[39m*\u001b[39;49margs, \u001b[39m*\u001b[39;49m\u001b[39m*\u001b[39;49mkwargs)\n\u001b[1;32m    110\u001b[0m \u001b[39mexcept\u001b[39;00m \u001b[39mKeyboardInterrupt\u001b[39;00m:\n\u001b[1;32m    111\u001b[0m     instaloader\u001b[39m.\u001b[39mcontext\u001b[39m.\u001b[39merror(\u001b[39m\"\u001b[39m\u001b[39m[skipped by user]\u001b[39m\u001b[39m\"\u001b[39m, repeat_at_end\u001b[39m=\u001b[39m\u001b[39mFalse\u001b[39;00m)\n",
      "File \u001b[0;32m/opt/anaconda3/envs/airtbot/lib/python3.10/site-packages/instaloader/instaloader.py:109\u001b[0m, in \u001b[0;36m_retry_on_connection_error.<locals>.call\u001b[0;34m(instaloader, *args, **kwargs)\u001b[0m\n\u001b[1;32m    107\u001b[0m         kwargs[\u001b[39m'\u001b[39m\u001b[39m_attempt\u001b[39m\u001b[39m'\u001b[39m] \u001b[39m=\u001b[39m \u001b[39m2\u001b[39m\n\u001b[1;32m    108\u001b[0m     instaloader\u001b[39m.\u001b[39mcontext\u001b[39m.\u001b[39mdo_sleep()\n\u001b[0;32m--> 109\u001b[0m     \u001b[39mreturn\u001b[39;00m call(instaloader, \u001b[39m*\u001b[39;49margs, \u001b[39m*\u001b[39;49m\u001b[39m*\u001b[39;49mkwargs)\n\u001b[1;32m    110\u001b[0m \u001b[39mexcept\u001b[39;00m \u001b[39mKeyboardInterrupt\u001b[39;00m:\n\u001b[1;32m    111\u001b[0m     instaloader\u001b[39m.\u001b[39mcontext\u001b[39m.\u001b[39merror(\u001b[39m\"\u001b[39m\u001b[39m[skipped by user]\u001b[39m\u001b[39m\"\u001b[39m, repeat_at_end\u001b[39m=\u001b[39m\u001b[39mFalse\u001b[39;00m)\n",
      "File \u001b[0;32m/opt/anaconda3/envs/airtbot/lib/python3.10/site-packages/instaloader/instaloader.py:101\u001b[0m, in \u001b[0;36m_retry_on_connection_error.<locals>.call\u001b[0;34m(instaloader, *args, **kwargs)\u001b[0m\n\u001b[1;32m     99\u001b[0m error_string \u001b[39m=\u001b[39m \u001b[39m\"\u001b[39m\u001b[39m{}\u001b[39;00m\u001b[39m(\u001b[39m\u001b[39m{}\u001b[39;00m\u001b[39m): \u001b[39m\u001b[39m{}\u001b[39;00m\u001b[39m\"\u001b[39m\u001b[39m.\u001b[39mformat(func\u001b[39m.\u001b[39m\u001b[39m__name__\u001b[39m, \u001b[39m'\u001b[39m\u001b[39m, \u001b[39m\u001b[39m'\u001b[39m\u001b[39m.\u001b[39mjoin([\u001b[39mrepr\u001b[39m(arg) \u001b[39mfor\u001b[39;00m arg \u001b[39min\u001b[39;00m args]), err)\n\u001b[1;32m    100\u001b[0m \u001b[39mif\u001b[39;00m (kwargs\u001b[39m.\u001b[39mget(\u001b[39m'\u001b[39m\u001b[39m_attempt\u001b[39m\u001b[39m'\u001b[39m) \u001b[39mor\u001b[39;00m \u001b[39m1\u001b[39m) \u001b[39m==\u001b[39m instaloader\u001b[39m.\u001b[39mcontext\u001b[39m.\u001b[39mmax_connection_attempts:\n\u001b[0;32m--> 101\u001b[0m     \u001b[39mraise\u001b[39;00m ConnectionException(error_string) \u001b[39mfrom\u001b[39;00m \u001b[39mNone\u001b[39m\n\u001b[1;32m    102\u001b[0m instaloader\u001b[39m.\u001b[39mcontext\u001b[39m.\u001b[39merror(error_string \u001b[39m+\u001b[39m \u001b[39m\"\u001b[39m\u001b[39m [retrying; skip with ^C]\u001b[39m\u001b[39m\"\u001b[39m, repeat_at_end\u001b[39m=\u001b[39m\u001b[39mFalse\u001b[39;00m)\n\u001b[1;32m    103\u001b[0m \u001b[39mtry\u001b[39;00m:\n",
      "\u001b[0;31mConnectionException\u001b[0m: download_pic(): HTTPSConnectionPool(host='scontent-ams2-1.cdninstagram.com', port=443): Max retries exceeded with url: /v/t51.2885-15/293273522_1422453164889306_1042609851772216868_n.jpg?stp=dst-jpg_e35_s1080x1080&_nc_ht=scontent-ams2-1.cdninstagram.com&_nc_cat=106&_nc_ohc=0eXjxxpjDFAAX-wQU6u&edm=APU89FABAAAA&ccb=7-5&ig_cache_key=Mjg4MTk4OTE5MDU4MjU5MTU0NA%3D%3D.2-ccb7-5&oh=00_AfBrtG7j9eRoqL0XgwMV0mXe-C6cOgo7qx_Xa3rahRC8Fw&oe=636CEBAF&_nc_sid=86f79a (Caused by NewConnectionError('<urllib3.connection.HTTPSConnection object at 0x7fa6c1c5b610>: Failed to establish a new connection: [Errno 8] nodename nor servname provided, or not known'))"
     ]
    }
   ],
   "source": [
    "from itertools import islice\n",
    "from math import ceil\n",
    "import time\n",
    "\n",
    "from instaloader import Instaloader, Profile, load_structure_from_file\n",
    "\n",
    "X_percentage = 1    # percentage of posts that should be downloaded\n",
    "\n",
    "for PROFILE in followees:\n",
    "    posts = Profile.from_username(L.context, PROFILE).get_posts()\n",
    "\n",
    "    for post in posts:\n",
    "        L.download_post(post, target=PROFILE)\n",
    "        time.sleep(7)\n"
   ]
  },
  {
   "cell_type": "code",
   "execution_count": 84,
   "metadata": {},
   "outputs": [
    {
     "name": "stdout",
     "output_type": "stream",
     "text": [
      "Creator Week ✨ Happening now on @creators\n",
      "asdf\n"
     ]
    },
    {
     "name": "stderr",
     "output_type": "stream",
     "text": [
      "JSON Query to graphql/query: HTTP error code 401. [retrying; skip with ^C]\n",
      "JSON Query to graphql/query: HTTP error code 401. [retrying; skip with ^C]\n",
      "[skipped by user]\n"
     ]
    },
    {
     "ename": "ConnectionException",
     "evalue": "JSON Query to graphql/query: HTTP error code 401.",
     "output_type": "error",
     "traceback": [
      "\u001b[0;31m---------------------------------------------------------------------------\u001b[0m",
      "\u001b[0;31mKeyError\u001b[0m                                  Traceback (most recent call last)",
      "File \u001b[0;32m/opt/anaconda3/envs/airtbot/lib/python3.10/site-packages/instaloader/structures.py:225\u001b[0m, in \u001b[0;36mPost._field\u001b[0;34m(self, *keys)\u001b[0m\n\u001b[1;32m    224\u001b[0m \u001b[39mfor\u001b[39;00m key \u001b[39min\u001b[39;00m keys:\n\u001b[0;32m--> 225\u001b[0m     d \u001b[39m=\u001b[39m d[key]\n\u001b[1;32m    226\u001b[0m \u001b[39mreturn\u001b[39;00m d\n",
      "\u001b[0;31mKeyError\u001b[0m: 'title'",
      "\nDuring handling of the above exception, another exception occurred:\n",
      "\u001b[0;31mConnectionException\u001b[0m                       Traceback (most recent call last)",
      "File \u001b[0;32m/opt/anaconda3/envs/airtbot/lib/python3.10/site-packages/instaloader/instaloadercontext.py:351\u001b[0m, in \u001b[0;36mInstaloaderContext.get_json\u001b[0;34m(self, path, params, host, session, _attempt)\u001b[0m\n\u001b[1;32m    350\u001b[0m \u001b[39mif\u001b[39;00m resp\u001b[39m.\u001b[39mstatus_code \u001b[39m!=\u001b[39m \u001b[39m200\u001b[39m:\n\u001b[0;32m--> 351\u001b[0m     \u001b[39mraise\u001b[39;00m ConnectionException(\u001b[39m\"\u001b[39m\u001b[39mHTTP error code \u001b[39m\u001b[39m{}\u001b[39;00m\u001b[39m.\u001b[39m\u001b[39m\"\u001b[39m\u001b[39m.\u001b[39mformat(resp\u001b[39m.\u001b[39mstatus_code))\n\u001b[1;32m    352\u001b[0m is_html_query \u001b[39m=\u001b[39m \u001b[39mnot\u001b[39;00m is_graphql_query \u001b[39mand\u001b[39;00m \u001b[39mnot\u001b[39;00m \u001b[39m\"\u001b[39m\u001b[39m__a\u001b[39m\u001b[39m\"\u001b[39m \u001b[39min\u001b[39;00m params \u001b[39mand\u001b[39;00m host \u001b[39m==\u001b[39m \u001b[39m\"\u001b[39m\u001b[39mwww.instagram.com\u001b[39m\u001b[39m\"\u001b[39m\n",
      "\u001b[0;31mConnectionException\u001b[0m: HTTP error code 401.",
      "\nDuring handling of the above exception, another exception occurred:\n",
      "\u001b[0;31mConnectionException\u001b[0m                       Traceback (most recent call last)",
      "File \u001b[0;32m/opt/anaconda3/envs/airtbot/lib/python3.10/site-packages/instaloader/instaloadercontext.py:351\u001b[0m, in \u001b[0;36mInstaloaderContext.get_json\u001b[0;34m(self, path, params, host, session, _attempt)\u001b[0m\n\u001b[1;32m    350\u001b[0m \u001b[39mif\u001b[39;00m resp\u001b[39m.\u001b[39mstatus_code \u001b[39m!=\u001b[39m \u001b[39m200\u001b[39m:\n\u001b[0;32m--> 351\u001b[0m     \u001b[39mraise\u001b[39;00m ConnectionException(\u001b[39m\"\u001b[39m\u001b[39mHTTP error code \u001b[39m\u001b[39m{}\u001b[39;00m\u001b[39m.\u001b[39m\u001b[39m\"\u001b[39m\u001b[39m.\u001b[39mformat(resp\u001b[39m.\u001b[39mstatus_code))\n\u001b[1;32m    352\u001b[0m is_html_query \u001b[39m=\u001b[39m \u001b[39mnot\u001b[39;00m is_graphql_query \u001b[39mand\u001b[39;00m \u001b[39mnot\u001b[39;00m \u001b[39m\"\u001b[39m\u001b[39m__a\u001b[39m\u001b[39m\"\u001b[39m \u001b[39min\u001b[39;00m params \u001b[39mand\u001b[39;00m host \u001b[39m==\u001b[39m \u001b[39m\"\u001b[39m\u001b[39mwww.instagram.com\u001b[39m\u001b[39m\"\u001b[39m\n",
      "\u001b[0;31mConnectionException\u001b[0m: HTTP error code 401.",
      "\nThe above exception was the direct cause of the following exception:\n",
      "\u001b[0;31mConnectionException\u001b[0m                       Traceback (most recent call last)",
      "Cell \u001b[0;32mIn [84], line 17\u001b[0m\n\u001b[1;32m     14\u001b[0m UNTIL \u001b[39m=\u001b[39m datetime(\u001b[39m2020\u001b[39m, \u001b[39m5\u001b[39m, \u001b[39m11\u001b[39m)  \u001b[39m# closer to today, not inclusive\u001b[39;00m\n\u001b[1;32m     16\u001b[0m \u001b[39mfor\u001b[39;00m post \u001b[39min\u001b[39;00m posts:\n\u001b[0;32m---> 17\u001b[0m     \u001b[39mprint\u001b[39m(post\u001b[39m.\u001b[39;49mtitle)\n",
      "File \u001b[0;32m/opt/anaconda3/envs/airtbot/lib/python3.10/site-packages/instaloader/structures.py:175\u001b[0m, in \u001b[0;36mPost.title\u001b[0;34m(self)\u001b[0m\n\u001b[1;32m    173\u001b[0m \u001b[39m\"\"\"Title of post\"\"\"\u001b[39;00m\n\u001b[1;32m    174\u001b[0m \u001b[39mtry\u001b[39;00m:\n\u001b[0;32m--> 175\u001b[0m     \u001b[39mreturn\u001b[39;00m \u001b[39mself\u001b[39;49m\u001b[39m.\u001b[39;49m_field(\u001b[39m'\u001b[39;49m\u001b[39mtitle\u001b[39;49m\u001b[39m'\u001b[39;49m)\n\u001b[1;32m    176\u001b[0m \u001b[39mexcept\u001b[39;00m \u001b[39mKeyError\u001b[39;00m:\n\u001b[1;32m    177\u001b[0m     \u001b[39mreturn\u001b[39;00m \u001b[39mNone\u001b[39;00m\n",
      "File \u001b[0;32m/opt/anaconda3/envs/airtbot/lib/python3.10/site-packages/instaloader/structures.py:228\u001b[0m, in \u001b[0;36mPost._field\u001b[0;34m(self, *keys)\u001b[0m\n\u001b[1;32m    226\u001b[0m     \u001b[39mreturn\u001b[39;00m d\n\u001b[1;32m    227\u001b[0m \u001b[39mexcept\u001b[39;00m \u001b[39mKeyError\u001b[39;00m:\n\u001b[0;32m--> 228\u001b[0m     d \u001b[39m=\u001b[39m \u001b[39mself\u001b[39;49m\u001b[39m.\u001b[39;49m_full_metadata\n\u001b[1;32m    229\u001b[0m     \u001b[39mfor\u001b[39;00m key \u001b[39min\u001b[39;00m keys:\n\u001b[1;32m    230\u001b[0m         d \u001b[39m=\u001b[39m d[key]\n",
      "File \u001b[0;32m/opt/anaconda3/envs/airtbot/lib/python3.10/site-packages/instaloader/structures.py:205\u001b[0m, in \u001b[0;36mPost._full_metadata\u001b[0;34m(self)\u001b[0m\n\u001b[1;32m    203\u001b[0m \u001b[39m@property\u001b[39m\n\u001b[1;32m    204\u001b[0m \u001b[39mdef\u001b[39;00m \u001b[39m_full_metadata\u001b[39m(\u001b[39mself\u001b[39m) \u001b[39m-\u001b[39m\u001b[39m>\u001b[39m Dict[\u001b[39mstr\u001b[39m, Any]:\n\u001b[0;32m--> 205\u001b[0m     \u001b[39mself\u001b[39;49m\u001b[39m.\u001b[39;49m_obtain_metadata()\n\u001b[1;32m    206\u001b[0m     \u001b[39massert\u001b[39;00m \u001b[39mself\u001b[39m\u001b[39m.\u001b[39m_full_metadata_dict \u001b[39mis\u001b[39;00m \u001b[39mnot\u001b[39;00m \u001b[39mNone\u001b[39;00m\n\u001b[1;32m    207\u001b[0m     \u001b[39mreturn\u001b[39;00m \u001b[39mself\u001b[39m\u001b[39m.\u001b[39m_full_metadata_dict\n",
      "File \u001b[0;32m/opt/anaconda3/envs/airtbot/lib/python3.10/site-packages/instaloader/structures.py:192\u001b[0m, in \u001b[0;36mPost._obtain_metadata\u001b[0;34m(self)\u001b[0m\n\u001b[1;32m    190\u001b[0m \u001b[39mdef\u001b[39;00m \u001b[39m_obtain_metadata\u001b[39m(\u001b[39mself\u001b[39m):\n\u001b[1;32m    191\u001b[0m     \u001b[39mif\u001b[39;00m \u001b[39mnot\u001b[39;00m \u001b[39mself\u001b[39m\u001b[39m.\u001b[39m_full_metadata_dict:\n\u001b[0;32m--> 192\u001b[0m         pic_json \u001b[39m=\u001b[39m \u001b[39mself\u001b[39;49m\u001b[39m.\u001b[39;49m_context\u001b[39m.\u001b[39;49mgraphql_query(\n\u001b[1;32m    193\u001b[0m             \u001b[39m'\u001b[39;49m\u001b[39m2b0673e0dc4580674a88d426fe00ea90\u001b[39;49m\u001b[39m'\u001b[39;49m,\n\u001b[1;32m    194\u001b[0m             {\u001b[39m'\u001b[39;49m\u001b[39mshortcode\u001b[39;49m\u001b[39m'\u001b[39;49m: \u001b[39mself\u001b[39;49m\u001b[39m.\u001b[39;49mshortcode}\n\u001b[1;32m    195\u001b[0m         )\n\u001b[1;32m    196\u001b[0m         \u001b[39mself\u001b[39m\u001b[39m.\u001b[39m_full_metadata_dict \u001b[39m=\u001b[39m pic_json[\u001b[39m'\u001b[39m\u001b[39mdata\u001b[39m\u001b[39m'\u001b[39m][\u001b[39m'\u001b[39m\u001b[39mshortcode_media\u001b[39m\u001b[39m'\u001b[39m]\n\u001b[1;32m    197\u001b[0m         \u001b[39mif\u001b[39;00m \u001b[39mself\u001b[39m\u001b[39m.\u001b[39m_full_metadata_dict \u001b[39mis\u001b[39;00m \u001b[39mNone\u001b[39;00m:\n",
      "File \u001b[0;32m/opt/anaconda3/envs/airtbot/lib/python3.10/site-packages/instaloader/instaloadercontext.py:428\u001b[0m, in \u001b[0;36mInstaloaderContext.graphql_query\u001b[0;34m(self, query_hash, variables, referer, rhx_gis)\u001b[0m\n\u001b[1;32m    425\u001b[0m         x_instagram_gis \u001b[39m=\u001b[39m hashlib\u001b[39m.\u001b[39mmd5(values\u001b[39m.\u001b[39mencode())\u001b[39m.\u001b[39mhexdigest()\n\u001b[1;32m    426\u001b[0m         tmpsession\u001b[39m.\u001b[39mheaders[\u001b[39m'\u001b[39m\u001b[39mx-instagram-gis\u001b[39m\u001b[39m'\u001b[39m] \u001b[39m=\u001b[39m x_instagram_gis\n\u001b[0;32m--> 428\u001b[0m     resp_json \u001b[39m=\u001b[39m \u001b[39mself\u001b[39;49m\u001b[39m.\u001b[39;49mget_json(\u001b[39m'\u001b[39;49m\u001b[39mgraphql/query\u001b[39;49m\u001b[39m'\u001b[39;49m,\n\u001b[1;32m    429\u001b[0m                               params\u001b[39m=\u001b[39;49m{\u001b[39m'\u001b[39;49m\u001b[39mquery_hash\u001b[39;49m\u001b[39m'\u001b[39;49m: query_hash,\n\u001b[1;32m    430\u001b[0m                                       \u001b[39m'\u001b[39;49m\u001b[39mvariables\u001b[39;49m\u001b[39m'\u001b[39;49m: variables_json},\n\u001b[1;32m    431\u001b[0m                               session\u001b[39m=\u001b[39;49mtmpsession)\n\u001b[1;32m    432\u001b[0m \u001b[39mif\u001b[39;00m \u001b[39m'\u001b[39m\u001b[39mstatus\u001b[39m\u001b[39m'\u001b[39m \u001b[39mnot\u001b[39;00m \u001b[39min\u001b[39;00m resp_json:\n\u001b[1;32m    433\u001b[0m     \u001b[39mself\u001b[39m\u001b[39m.\u001b[39merror(\u001b[39m\"\u001b[39m\u001b[39mGraphQL response did not contain a \u001b[39m\u001b[39m\\\"\u001b[39;00m\u001b[39mstatus\u001b[39m\u001b[39m\\\"\u001b[39;00m\u001b[39m field.\u001b[39m\u001b[39m\"\u001b[39m)\n",
      "File \u001b[0;32m/opt/anaconda3/envs/airtbot/lib/python3.10/site-packages/instaloader/instaloadercontext.py:394\u001b[0m, in \u001b[0;36mInstaloaderContext.get_json\u001b[0;34m(self, path, params, host, session, _attempt)\u001b[0m\n\u001b[1;32m    392\u001b[0m         \u001b[39mif\u001b[39;00m is_other_query:\n\u001b[1;32m    393\u001b[0m             \u001b[39mself\u001b[39m\u001b[39m.\u001b[39m_rate_controller\u001b[39m.\u001b[39mhandle_429(\u001b[39m'\u001b[39m\u001b[39mother\u001b[39m\u001b[39m'\u001b[39m)\n\u001b[0;32m--> 394\u001b[0m     \u001b[39mreturn\u001b[39;00m \u001b[39mself\u001b[39;49m\u001b[39m.\u001b[39;49mget_json(path\u001b[39m=\u001b[39;49mpath, params\u001b[39m=\u001b[39;49mparams, host\u001b[39m=\u001b[39;49mhost, session\u001b[39m=\u001b[39;49msess, _attempt\u001b[39m=\u001b[39;49m_attempt \u001b[39m+\u001b[39;49m \u001b[39m1\u001b[39;49m)\n\u001b[1;32m    395\u001b[0m \u001b[39mexcept\u001b[39;00m \u001b[39mKeyboardInterrupt\u001b[39;00m:\n\u001b[1;32m    396\u001b[0m     \u001b[39mself\u001b[39m\u001b[39m.\u001b[39merror(\u001b[39m\"\u001b[39m\u001b[39m[skipped by user]\u001b[39m\u001b[39m\"\u001b[39m, repeat_at_end\u001b[39m=\u001b[39m\u001b[39mFalse\u001b[39;00m)\n",
      "File \u001b[0;32m/opt/anaconda3/envs/airtbot/lib/python3.10/site-packages/instaloader/instaloadercontext.py:397\u001b[0m, in \u001b[0;36mInstaloaderContext.get_json\u001b[0;34m(self, path, params, host, session, _attempt)\u001b[0m\n\u001b[1;32m    395\u001b[0m \u001b[39mexcept\u001b[39;00m \u001b[39mKeyboardInterrupt\u001b[39;00m:\n\u001b[1;32m    396\u001b[0m     \u001b[39mself\u001b[39m\u001b[39m.\u001b[39merror(\u001b[39m\"\u001b[39m\u001b[39m[skipped by user]\u001b[39m\u001b[39m\"\u001b[39m, repeat_at_end\u001b[39m=\u001b[39m\u001b[39mFalse\u001b[39;00m)\n\u001b[0;32m--> 397\u001b[0m     \u001b[39mraise\u001b[39;00m ConnectionException(error_string) \u001b[39mfrom\u001b[39;00m \u001b[39merr\u001b[39;00m\n",
      "\u001b[0;31mConnectionException\u001b[0m: JSON Query to graphql/query: HTTP error code 401."
     ]
    }
   ],
   "source": [
    "from datetime import datetime\n",
    "from itertools import dropwhile, takewhile\n",
    "\n",
    "import instaloader\n",
    "\n",
    "L = Instaloader(user_agent='Mozilla/5.0 (iPhone; CPU iPhone OS 15_5 like Mac OS X) AppleWebKit/605.1.15 (KHTML, like Gecko) Mobile/15E148 Instagram 244.0.0.12.112 (iPhone12,1; iOS 15_5; en_US; en-US; scale=2.00; 828x1792; 383361019)',\n",
    "                download_videos=False,\n",
    "                download_video_thumbnails=False)\n",
    "\n",
    "posts = instaloader.Profile.from_username(L.context, \"Instagram\").get_posts()\n",
    "print('asdf')\n",
    "SINCE = datetime(2020, 5, 10)  # further from today, inclusive\n",
    "UNTIL = datetime(2020, 5, 11)  # closer to today, not inclusive\n",
    "\n",
    "for post in posts:\n",
    "    print(post.title)\n"
   ]
  },
  {
   "cell_type": "code",
   "execution_count": 90,
   "metadata": {},
   "outputs": [
    {
     "name": "stdout",
     "output_type": "stream",
     "text": [
      "367950\n",
      "381959\n",
      "757417\n",
      "383157\n",
      "258400\n",
      "376145\n",
      "480374\n",
      "1283919\n",
      "943172\n",
      "387939\n",
      "315394\n",
      "1278157\n",
      "479066\n",
      "788856\n",
      "419614\n",
      "282457\n",
      "517605\n",
      "322589\n",
      "710833\n",
      "626524\n",
      "375782\n",
      "467739\n",
      "674753\n",
      "1198633\n",
      "582109\n",
      "522220\n",
      "471610\n",
      "636025\n",
      "808595\n",
      "477259\n",
      "498028\n",
      "677510\n",
      "397760\n",
      "451887\n",
      "286309\n",
      "697133\n",
      "5197838\n",
      "1005424\n",
      "398198\n",
      "285114\n",
      "400861\n",
      "455044\n",
      "404398\n",
      "1040307\n"
     ]
    },
    {
     "ename": "KeyboardInterrupt",
     "evalue": "",
     "output_type": "error",
     "traceback": [
      "\u001b[0;31m---------------------------------------------------------------------------\u001b[0m",
      "\u001b[0;31mKeyboardInterrupt\u001b[0m                         Traceback (most recent call last)",
      "Cell \u001b[0;32mIn [90], line 5\u001b[0m\n\u001b[1;32m      3\u001b[0m \u001b[39mfor\u001b[39;00m post \u001b[39min\u001b[39;00m posts:\n\u001b[1;32m      4\u001b[0m     \u001b[39mprint\u001b[39m(post\u001b[39m.\u001b[39mlikes)\n\u001b[0;32m----> 5\u001b[0m     time\u001b[39m.\u001b[39;49msleep(\u001b[39m7\u001b[39;49m)\n",
      "\u001b[0;31mKeyboardInterrupt\u001b[0m: "
     ]
    }
   ],
   "source": [
    "import time\n",
    "\n",
    "for post in posts:\n",
    "    L.download_post(post, PROFILE)    \n",
    "    time.sleep(7)\n",
    "\n",
    "    "
   ]
  },
  {
   "cell_type": "code",
   "execution_count": 78,
   "metadata": {},
   "outputs": [
    {
     "ename": "TypeError",
     "evalue": "object of type 'NodeIterator' has no len()",
     "output_type": "error",
     "traceback": [
      "\u001b[0;31m---------------------------------------------------------------------------\u001b[0m",
      "\u001b[0;31mTypeError\u001b[0m                                 Traceback (most recent call last)",
      "Cell \u001b[0;32mIn [78], line 1\u001b[0m\n\u001b[0;32m----> 1\u001b[0m \u001b[39mlen\u001b[39;49m(posts)\n",
      "\u001b[0;31mTypeError\u001b[0m: object of type 'NodeIterator' has no len()"
     ]
    }
   ],
   "source": [
    "len(posts)"
   ]
  },
  {
   "cell_type": "code",
   "execution_count": 40,
   "metadata": {},
   "outputs": [],
   "source": [
    "from instaloader import Instaloader, Profile, load_structure_from_file, Post\n",
    "\n",
    "a = load_structure_from_file(L.context, 'artsy/2022-11-05_18-15-26_UTC.json.xz')"
   ]
  },
  {
   "cell_type": "code",
   "execution_count": 44,
   "metadata": {},
   "outputs": [
    {
     "data": {
      "text/plain": [
       "'Woolwich Contemporary Print Fair (@woolwichcontemporaryprintfair) is live on Artsy, spotlighting a range of printmaking techniques from international galleries. Explore the London-based fair on Artsy through the link in our bio until November 13th.\\u2060\\n•\\u2060\\n#ChristopherWool and #FelixGonzalez, Untitled (The Show is Over), 1993\\u2060\\n#KoshiroAkiyama, Bathroom 1, 2021\\u2060\\n#MisaGott, Alongside Fears, Wonders of Mystery, 2022'"
      ]
     },
     "execution_count": 44,
     "metadata": {},
     "output_type": "execute_result"
    }
   ],
   "source": [
    "a.caption"
   ]
  },
  {
   "cell_type": "code",
   "execution_count": 50,
   "metadata": {},
   "outputs": [
    {
     "data": {
      "text/plain": [
       "<generator object Post.get_likes at 0x7fa6e18669d0>"
      ]
     },
     "execution_count": 50,
     "metadata": {},
     "output_type": "execute_result"
    }
   ],
   "source": [
    "a.get_likes()"
   ]
  },
  {
   "cell_type": "code",
   "execution_count": 51,
   "metadata": {},
   "outputs": [
    {
     "data": {
      "text/plain": [
       "400"
      ]
     },
     "execution_count": 51,
     "metadata": {},
     "output_type": "execute_result"
    }
   ],
   "source": [
    "a.likes"
   ]
  },
  {
   "cell_type": "code",
   "execution_count": 43,
   "metadata": {},
   "outputs": [],
   "source": [
    "from instaloader import Instaloader, Profile, load_structure_from_file, Post\n",
    "Post.get_likes"
   ]
  },
  {
   "cell_type": "code",
   "execution_count": null,
   "metadata": {},
   "outputs": [],
   "source": []
  },
  {
   "cell_type": "code",
   "execution_count": 11,
   "metadata": {},
   "outputs": [
    {
     "name": "stdout",
     "output_type": "stream",
     "text": [
      "airt_bot/2022-11-05_14-40-17_UTC.jpg exists [Prueba 1] unchanged json \n"
     ]
    }
   ],
   "source": [
    "from itertools import islice\n",
    "from math import ceil\n",
    "\n",
    "from instaloader import Instaloader, Profile\n",
    "\n",
    "PROFILE = 'airt_bot'        # profile to download from\n",
    "X_percentage = 1    # percentage of posts that should be downloaded\n",
    "\n",
    "L = Instaloader()\n",
    "\n",
    "profile = Profile.from_username(L.context, PROFILE)\n",
    "posts_sorted_by_likes = sorted(profile.get_posts(),\n",
    "                               key=lambda p: p.likes + p.comments,\n",
    "                               reverse=True)\n",
    "print('hey')\n",
    "for post in islice(posts_sorted_by_likes, ceil(profile.mediacount * X_percentage / 100)):\n",
    "    L.download_post(post, PROFILE)"
   ]
  },
  {
   "cell_type": "code",
   "execution_count": 55,
   "metadata": {},
   "outputs": [
    {
     "data": {
      "text/plain": [
       "0"
      ]
     },
     "execution_count": 55,
     "metadata": {},
     "output_type": "execute_result"
    }
   ],
   "source": [
    "posts_sorted_by_likes[0].likes"
   ]
  },
  {
   "cell_type": "code",
   "execution_count": 56,
   "metadata": {},
   "outputs": [
    {
     "name": "stdout",
     "output_type": "stream",
     "text": [
      "art/2022-11-05_14-40-17_UTC.jpg [Prueba 1] json \n"
     ]
    }
   ],
   "source": [
    "for post in islice(posts_sorted_by_likes, ceil(profile.mediacount * X_percentage / 100)):\n",
    "    L.download_post(post, PROFILE)"
   ]
  },
  {
   "cell_type": "code",
   "execution_count": null,
   "metadata": {},
   "outputs": [],
   "source": []
  }
 ],
 "metadata": {
  "kernelspec": {
   "display_name": "Python 3.10.6 ('airtbot')",
   "language": "python",
   "name": "python3"
  },
  "language_info": {
   "codemirror_mode": {
    "name": "ipython",
    "version": 3
   },
   "file_extension": ".py",
   "mimetype": "text/x-python",
   "name": "python",
   "nbconvert_exporter": "python",
   "pygments_lexer": "ipython3",
   "version": "3.10.6"
  },
  "orig_nbformat": 4,
  "vscode": {
   "interpreter": {
    "hash": "5c36c99a4d03e577dbf781ff16d99924e76374e7d4bc06861decce35d396b3ad"
   }
  }
 },
 "nbformat": 4,
 "nbformat_minor": 2
}
