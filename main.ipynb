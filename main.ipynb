{
 "cells": [
  {
   "cell_type": "code",
   "execution_count": 3,
   "metadata": {},
   "outputs": [],
   "source": [
    "import json\n",
    "  \n",
    "# Opening JSON file\n",
    "f = open('IG_credentials.json')\n",
    "data = json.load(f)"
   ]
  },
  {
   "cell_type": "code",
   "execution_count": null,
   "metadata": {},
   "outputs": [],
   "source": [
    "from instabot import Bot\n",
    " \n",
    "bot = Bot()\n",
    " \n",
    "bot.login(username = data[\"username\"],\n",
    "          password = data[\"password\"])\n",
    " \n",
    "bot.upload_photo(\"Technical-Scripter-2019.jpg\",\n",
    "                 caption =\"Technical Scripter Event 2019\")"
   ]
  }
 ],
 "metadata": {
  "kernelspec": {
   "display_name": "Python 3.10.6 ('airtbot')",
   "language": "python",
   "name": "python3"
  },
  "language_info": {
   "codemirror_mode": {
    "name": "ipython",
    "version": 3
   },
   "file_extension": ".py",
   "mimetype": "text/x-python",
   "name": "python",
   "nbconvert_exporter": "python",
   "pygments_lexer": "ipython3",
   "version": "3.10.6"
  },
  "orig_nbformat": 4,
  "vscode": {
   "interpreter": {
    "hash": "5c36c99a4d03e577dbf781ff16d99924e76374e7d4bc06861decce35d396b3ad"
   }
  }
 },
 "nbformat": 4,
 "nbformat_minor": 2
}
