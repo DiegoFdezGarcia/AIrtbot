{
 "cells": [
  {
   "cell_type": "code",
   "execution_count": 36,
   "metadata": {},
   "outputs": [],
   "source": [
    "from instaloader import Instaloader, load_structure_from_file\n",
    "import pandas as pd"
   ]
  },
  {
   "cell_type": "code",
   "execution_count": 5,
   "metadata": {},
   "outputs": [],
   "source": [
    "L = Instaloader(user_agent='Mozilla/5.0 (iPhone; CPU iPhone OS 15_5 like Mac OS X) AppleWebKit/605.1.15 (KHTML, like Gecko) Mobile/15E148 Instagram 244.0.0.12.112 (iPhone12,1; iOS 15_5; en_US; en-US; scale=2.00; 828x1792; 383361019)',\n",
    "                download_videos=False,\n",
    "                download_video_thumbnails=False)\n",
    "                \n",
    "a = load_structure_from_file(L.context, 'artsy/2022-11-05_18-15-26_UTC.json.xz')"
   ]
  },
  {
   "cell_type": "code",
   "execution_count": 6,
   "metadata": {},
   "outputs": [
    {
     "data": {
      "text/plain": [
       "'Woolwich Contemporary Print Fair (@woolwichcontemporaryprintfair) is live on Artsy, spotlighting a range of printmaking techniques from international galleries. Explore the London-based fair on Artsy through the link in our bio until November 13th.\\u2060\\n•\\u2060\\n#ChristopherWool and #FelixGonzalez, Untitled (The Show is Over), 1993\\u2060\\n#KoshiroAkiyama, Bathroom 1, 2021\\u2060\\n#MisaGott, Alongside Fears, Wonders of Mystery, 2022'"
      ]
     },
     "execution_count": 6,
     "metadata": {},
     "output_type": "execute_result"
    }
   ],
   "source": [
    "a.caption"
   ]
  },
  {
   "cell_type": "code",
   "execution_count": 10,
   "metadata": {},
   "outputs": [
    {
     "data": {
      "text/plain": [
       "534"
      ]
     },
     "execution_count": 10,
     "metadata": {},
     "output_type": "execute_result"
    }
   ],
   "source": [
    "a.likes"
   ]
  },
  {
   "cell_type": "code",
   "execution_count": 11,
   "metadata": {},
   "outputs": [
    {
     "data": {
      "text/plain": [
       "8"
      ]
     },
     "execution_count": 11,
     "metadata": {},
     "output_type": "execute_result"
    }
   ],
   "source": [
    "a.comments"
   ]
  },
  {
   "cell_type": "code",
   "execution_count": 13,
   "metadata": {},
   "outputs": [
    {
     "data": {
      "text/plain": [
       "'CklsYdRprIz'"
      ]
     },
     "execution_count": 13,
     "metadata": {},
     "output_type": "execute_result"
    }
   ],
   "source": [
    "a.shortcode"
   ]
  },
  {
   "cell_type": "markdown",
   "metadata": {},
   "source": [
    "- Ruta del archivo json (con nombre cuenta incluido)\n",
    "- Ruta de la foto (con nombre cuenta incluido) --> KEY\n",
    "- Likes\n",
    "- Comentarios"
   ]
  },
  {
   "cell_type": "code",
   "execution_count": 41,
   "metadata": {},
   "outputs": [
    {
     "name": "stdout",
     "output_type": "stream",
     "text": [
      "/artsy/2022-10-22_19-30-29_UTC.json.xz\n",
      "artsy\n"
     ]
    },
    {
     "data": {
      "text/plain": [
       "['2022-10-22_19-30-29_UTC_4.jpg',\n",
       " '2022-10-22_19-30-29_UTC_5.jpg',\n",
       " '2022-10-22_19-30-29_UTC_2.jpg',\n",
       " '2022-10-22_19-30-29_UTC_3.jpg',\n",
       " '2022-10-22_19-30-29_UTC_1.jpg']"
      ]
     },
     "execution_count": 41,
     "metadata": {},
     "output_type": "execute_result"
    }
   ],
   "source": [
    "import fnmatch\n",
    "\n",
    "def get_post_pictures(jsonxzfile):\n",
    "   '''\n",
    "   Function to get the pictures files related to the jsonxz file.\n",
    "   '''\n",
    "   print(jsonxzfile)\n",
    "   # Obtain file and directory names\n",
    "   file = os.path.basename(jsonxzfile)\n",
    "   directory = os.path.dirname(jsonxzfile)[1:]\n",
    "   print(directory)\n",
    "   # Filter the file extension\n",
    "   post_images, _ = os.path.splitext(file[:-3])\n",
    "   \n",
    "   # Return all jpg files in the directory wich contains the jsonxz file name\n",
    "   return fnmatch.filter(os.listdir(directory), post_images + '*.jpg')\n",
    "\n",
    "get_post_pictures('/artsy/2022-10-22_19-30-29_UTC.json.xz')"
   ]
  },
  {
   "cell_type": "code",
   "execution_count": 35,
   "metadata": {},
   "outputs": [
    {
     "data": {
      "text/plain": [
       "(\"Oscar Murillo's calligraphic, mixed-media canvases explore incompletion, transformation, and the realities of maintaining a studio practice. Murillo repurposes discarded scraps of previous works, turning his gestural abstractions into layered palimpsests that meditate on time and process. The artist’s inventive, itinerant practice also spans drawing, sculpture, installation, video, and performance and often considers notions of circulation and globalization.\\u2060\\n•\\u2060\\nFollow the artist on the Artsy app through the link in our bio for updates on available works, market news, and more.\\u2060\\n•\\u2060\\n#OscarMurillo, (Untitled) News, 2022\\u2060\\n#OscarMurillo, Untitled, 2012\",\n",
       " 1263,\n",
       " 8,\n",
       " 'CkBNxgaNxtq')"
      ]
     },
     "execution_count": 35,
     "metadata": {},
     "output_type": "execute_result"
    }
   ],
   "source": [
    "def extract_metadata(jsonxzfile):\n",
    "\n",
    "    a = load_structure_from_file(L.context, jsonxzfile)\n",
    "\n",
    "    return a.caption, a.likes, a.comments, a.shortcode\n",
    "\n",
    "extract_metadata('artsy/2022-10-22_14-15-18_UTC.json.xz')"
   ]
  },
  {
   "cell_type": "code",
   "execution_count": null,
   "metadata": {},
   "outputs": [],
   "source": [
    "def exists_in_data(file_data, df):\n",
    "    \n",
    "    return ((df['filename'] == file_data[0]) & (df['likes'] == file_data[2]) & (df['comments'] == file_data[3])).any()"
   ]
  },
  {
   "cell_type": "code",
   "execution_count": 42,
   "metadata": {},
   "outputs": [
    {
     "name": "stdout",
     "output_type": "stream",
     "text": [
      "artsy/2022-10-22_19-30-29_UTC.json.xz\n",
      "artsy/2022-10-22_19-30-29_UTC.json.xz\n",
      "rtsy\n"
     ]
    },
    {
     "ename": "FileNotFoundError",
     "evalue": "[Errno 2] No such file or directory: 'rtsy'",
     "output_type": "error",
     "traceback": [
      "\u001b[0;31m---------------------------------------------------------------------------\u001b[0m",
      "\u001b[0;31mFileNotFoundError\u001b[0m                         Traceback (most recent call last)",
      "Cell \u001b[0;32mIn [42], line 27\u001b[0m\n\u001b[1;32m     23\u001b[0m                     dataset\u001b[39m.\u001b[39mloc[dataset[\u001b[39m'\u001b[39m\u001b[39mfilename\u001b[39m\u001b[39m'\u001b[39m] \u001b[39m==\u001b[39m [file_data[\u001b[39m0\u001b[39m]], [\u001b[39m'\u001b[39m\u001b[39mfilename\u001b[39m\u001b[39m'\u001b[39m, \u001b[39m'\u001b[39m\u001b[39mcaption\u001b[39m\u001b[39m'\u001b[39m, \u001b[39m'\u001b[39m\u001b[39mlikes\u001b[39m\u001b[39m'\u001b[39m, \u001b[39m'\u001b[39m\u001b[39mcomments\u001b[39m\u001b[39m'\u001b[39m, \u001b[39m'\u001b[39m\u001b[39mshortcode\u001b[39m\u001b[39m'\u001b[39m]] \u001b[39m=\u001b[39m file_data\n\u001b[1;32m     25\u001b[0m                 \u001b[39mbreak\u001b[39;00m\n\u001b[0;32m---> 27\u001b[0m add_to_dataset(df, \u001b[39m\"\u001b[39;49m\u001b[39martsy/\u001b[39;49m\u001b[39m\"\u001b[39;49m)\n",
      "Cell \u001b[0;32mIn [42], line 14\u001b[0m, in \u001b[0;36madd_to_dataset\u001b[0;34m(dataset, directory)\u001b[0m\n\u001b[1;32m     11\u001b[0m jsonxzfile_dir \u001b[39m=\u001b[39m os\u001b[39m.\u001b[39mpath\u001b[39m.\u001b[39mjoin(directory, file)\n\u001b[1;32m     12\u001b[0m \u001b[39mprint\u001b[39m(jsonxzfile_dir)\n\u001b[0;32m---> 14\u001b[0m \u001b[39mfor\u001b[39;00m picture \u001b[39min\u001b[39;00m get_post_pictures(jsonxzfile_dir):\n\u001b[1;32m     16\u001b[0m     file_data \u001b[39m=\u001b[39m []\n\u001b[1;32m     17\u001b[0m     file_data\u001b[39m.\u001b[39mappend(picture)\n",
      "Cell \u001b[0;32mIn [41], line 16\u001b[0m, in \u001b[0;36mget_post_pictures\u001b[0;34m(jsonxzfile)\u001b[0m\n\u001b[1;32m     13\u001b[0m post_images, _ \u001b[39m=\u001b[39m os\u001b[39m.\u001b[39mpath\u001b[39m.\u001b[39msplitext(file[:\u001b[39m-\u001b[39m\u001b[39m3\u001b[39m])\n\u001b[1;32m     15\u001b[0m \u001b[39m# Return all jpg files in the directory wich contains the jsonxz file name\u001b[39;00m\n\u001b[0;32m---> 16\u001b[0m \u001b[39mreturn\u001b[39;00m fnmatch\u001b[39m.\u001b[39mfilter(os\u001b[39m.\u001b[39;49mlistdir(directory), post_images \u001b[39m+\u001b[39m \u001b[39m'\u001b[39m\u001b[39m*.jpg\u001b[39m\u001b[39m'\u001b[39m)\n",
      "\u001b[0;31mFileNotFoundError\u001b[0m: [Errno 2] No such file or directory: 'rtsy'"
     ]
    }
   ],
   "source": [
    "import os\n",
    "\n",
    "df = pd.DataFrame(columns=['filename', 'caption', 'likes', 'comments', 'shortcode'])\n",
    "\n",
    "def add_to_dataset(dataset, directory):\n",
    "    \n",
    "    # Look for post info\n",
    "    for file in os.listdir(directory):\n",
    "\n",
    "        if file.endswith(\".xz\"):\n",
    "            jsonxzfile_dir = os.path.join(directory, file)\n",
    "            print(jsonxzfile_dir)\n",
    "\n",
    "            for picture in get_post_pictures(jsonxzfile_dir):\n",
    "\n",
    "                file_data = []\n",
    "                file_data.append(picture)\n",
    "                file_data.append(extract_metadata(jsonxzfile_dir))\n",
    "\n",
    "                if not exists_in_data(file_data, dataset):\n",
    "                    dataset.append(pd.DataFrame(file_data, columns=['filename', 'caption', 'likes', 'comments', 'shortcode']))\n",
    "                else:\n",
    "                    dataset.loc[dataset['filename'] == [file_data[0]], ['filename', 'caption', 'likes', 'comments', 'shortcode']] = file_data\n",
    "\n",
    "                break\n",
    "\n",
    "add_to_dataset(df, \"artsy/\")"
   ]
  },
  {
   "cell_type": "code",
   "execution_count": 17,
   "metadata": {},
   "outputs": [
    {
     "name": "stdout",
     "output_type": "stream",
     "text": [
      "/mydir/2022-10-22_19-30-29_UTC.json.xz\n"
     ]
    }
   ],
   "source": [
    "\n",
    "\n",
    "for file in os.listdir(\"artsy/\"):\n",
    "    if file.endswith(\".xz\"):\n",
    "        extract_fields(os.path.join(\"/mydir\", file))\n",
    "        break"
   ]
  },
  {
   "cell_type": "code",
   "execution_count": 16,
   "metadata": {},
   "outputs": [
    {
     "name": "stdout",
     "output_type": "stream",
     "text": [
      "IG_credentials.json \u001b[34mairt_bot\u001b[m\u001b[m            \u001b[34martsy\u001b[m\u001b[m               main.ipynb\n",
      "README.md           \u001b[34mart\u001b[m\u001b[m                 \u001b[34mconfig\u001b[m\u001b[m              pruebas.ipynb\n"
     ]
    }
   ],
   "source": [
    "!ls"
   ]
  },
  {
   "cell_type": "code",
   "execution_count": null,
   "metadata": {},
   "outputs": [],
   "source": []
  }
 ],
 "metadata": {
  "kernelspec": {
   "display_name": "Python 3.10.6 ('airtbot')",
   "language": "python",
   "name": "python3"
  },
  "language_info": {
   "codemirror_mode": {
    "name": "ipython",
    "version": 3
   },
   "file_extension": ".py",
   "mimetype": "text/x-python",
   "name": "python",
   "nbconvert_exporter": "python",
   "pygments_lexer": "ipython3",
   "version": "3.10.6"
  },
  "orig_nbformat": 4,
  "vscode": {
   "interpreter": {
    "hash": "5c36c99a4d03e577dbf781ff16d99924e76374e7d4bc06861decce35d396b3ad"
   }
  }
 },
 "nbformat": 4,
 "nbformat_minor": 2
}
